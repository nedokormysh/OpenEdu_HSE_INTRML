{
  "nbformat": 4,
  "nbformat_minor": 0,
  "metadata": {
    "colab": {
      "name": "Answers_to_week6.ipynb",
      "provenance": [],
      "authorship_tag": "ABX9TyNXCUabnc+W06aL4GxVeA1f",
      "include_colab_link": true
    },
    "kernelspec": {
      "name": "python3",
      "display_name": "Python 3"
    },
    "language_info": {
      "name": "python"
    }
  },
  "cells": [
    {
      "cell_type": "markdown",
      "metadata": {
        "id": "view-in-github",
        "colab_type": "text"
      },
      "source": [
        "<a href=\"https://colab.research.google.com/github/nedokormysh/OpenEdu_HSE_INTRML/blob/week6/Answers_to_week6.ipynb\" target=\"_parent\"><img src=\"https://colab.research.google.com/assets/colab-badge.svg\" alt=\"Open In Colab\"/></a>"
      ]
    },
    {
      "cell_type": "code",
      "execution_count": null,
      "metadata": {
        "id": "_XQ8uYK-vgck"
      },
      "outputs": [],
      "source": [
        "import pandas as pd\n",
        "import numpy as np"
      ]
    },
    {
      "cell_type": "code",
      "source": [
        "x = np.array([1, 3, 5])\n",
        "w = np.array([0.2, .7, .1])"
      ],
      "metadata": {
        "id": "sZgfZ9v99P6I"
      },
      "execution_count": null,
      "outputs": []
    },
    {
      "cell_type": "code",
      "source": [
        "import math\n",
        "\n",
        "def sigmoid(x):\n",
        "  return 1 / (1 + math.exp(-x))"
      ],
      "metadata": {
        "id": "nv75owT6zHHU"
      },
      "execution_count": null,
      "outputs": []
    },
    {
      "cell_type": "markdown",
      "source": [
        "Решая задачу бинарной классификации, использовались данные с двумя признаками. На данных была обучена логистическая регрессия. Известно, что после обучения вектор весов (w_0, w_1, w_2) = (0.2, 0.7, 0.1). Для объекта x с признаковым описанием (3, 5) вычислите предсказание вероятности принадлежности классу 1. Ответ округлите до сотых. Ответ вводите с точкой."
      ],
      "metadata": {
        "id": "3HsRTnHn9VmF"
      }
    },
    {
      "cell_type": "code",
      "source": [
        "sigmoid(wx)"
      ],
      "metadata": {
        "colab": {
          "base_uri": "https://localhost:8080/"
        },
        "id": "TxQAbmv5zTYu",
        "outputId": "da33f383-427e-47dc-80bc-924696e24389"
      },
      "execution_count": null,
      "outputs": [
        {
          "output_type": "execute_result",
          "data": {
            "text/plain": [
              "0.9426758241011313"
            ]
          },
          "metadata": {},
          "execution_count": 5
        }
      ]
    },
    {
      "cell_type": "markdown",
      "source": [
        "Решая задачу бинарной классификации, использовались данные с двумя признаками. На данных была обучена логистическая регрессия. Известно, что после обучения вектор весов (w_0, w_1, w_2) = (0.2, 0.7, 0.1). Для объекта x с признаковым описанием (3, 5) Посчитайте модуль отступа. Ответ округлите до десятых. Ответ вводите с точкой."
      ],
      "metadata": {
        "id": "IAAO0Dcd9bjY"
      }
    },
    {
      "cell_type": "code",
      "source": [
        "wx = w@x\n",
        "wx"
      ],
      "metadata": {
        "id": "4wd122SJymZU",
        "colab": {
          "base_uri": "https://localhost:8080/"
        },
        "outputId": "88cbb386-62ad-4e57-fd49-b8bdde53af39"
      },
      "execution_count": null,
      "outputs": [
        {
          "output_type": "execute_result",
          "data": {
            "text/plain": [
              "2.8"
            ]
          },
          "metadata": {},
          "execution_count": 3
        }
      ]
    },
    {
      "cell_type": "code",
      "source": [
        "from sklearn.linear_model import LogisticRegression\n",
        "from sklearn.datasets import make_classification\n",
        "import numpy as np\n",
        "import matplotlib.pyplot as plt"
      ],
      "metadata": {
        "id": "2OqozlBzH41B"
      },
      "execution_count": null,
      "outputs": []
    }
  ]
}