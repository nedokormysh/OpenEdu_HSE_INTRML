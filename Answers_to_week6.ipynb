{
  "nbformat": 4,
  "nbformat_minor": 0,
  "metadata": {
    "colab": {
      "name": "Answers_to_week6.ipynb",
      "provenance": [],
      "authorship_tag": "ABX9TyOx9Lr8++2DNcgxsihCu/Ud",
      "include_colab_link": true
    },
    "kernelspec": {
      "name": "python3",
      "display_name": "Python 3"
    },
    "language_info": {
      "name": "python"
    }
  },
  "cells": [
    {
      "cell_type": "markdown",
      "metadata": {
        "id": "view-in-github",
        "colab_type": "text"
      },
      "source": [
        "<a href=\"https://colab.research.google.com/github/nedokormysh/OpenEdu_HSE_INTRML/blob/week6/Answers_to_week6.ipynb\" target=\"_parent\"><img src=\"https://colab.research.google.com/assets/colab-badge.svg\" alt=\"Open In Colab\"/></a>"
      ]
    },
    {
      "cell_type": "code",
      "execution_count": null,
      "metadata": {
        "id": "_XQ8uYK-vgck"
      },
      "outputs": [],
      "source": [
        "import pandas as pd\n",
        "import numpy as np"
      ]
    },
    {
      "cell_type": "code",
      "source": [
        "x = np.array([1, 3, 5])\n",
        "w = np.array([0.2, .7, .1])"
      ],
      "metadata": {
        "id": "sZgfZ9v99P6I"
      },
      "execution_count": null,
      "outputs": []
    },
    {
      "cell_type": "code",
      "source": [
        "import math\n",
        "\n",
        "def sigmoid(x):\n",
        "  return 1 / (1 + math.exp(-x))"
      ],
      "metadata": {
        "id": "nv75owT6zHHU"
      },
      "execution_count": null,
      "outputs": []
    },
    {
      "cell_type": "markdown",
      "source": [
        "Решая задачу бинарной классификации, использовались данные с двумя признаками. На данных была обучена логистическая регрессия. Известно, что после обучения вектор весов (w_0, w_1, w_2) = (0.2, 0.7, 0.1). Для объекта x с признаковым описанием (3, 5) вычислите предсказание вероятности принадлежности классу 1. Ответ округлите до сотых. Ответ вводите с точкой."
      ],
      "metadata": {
        "id": "3HsRTnHn9VmF"
      }
    },
    {
      "cell_type": "code",
      "source": [
        "sigmoid(wx)"
      ],
      "metadata": {
        "colab": {
          "base_uri": "https://localhost:8080/"
        },
        "id": "TxQAbmv5zTYu",
        "outputId": "da33f383-427e-47dc-80bc-924696e24389"
      },
      "execution_count": null,
      "outputs": [
        {
          "output_type": "execute_result",
          "data": {
            "text/plain": [
              "0.9426758241011313"
            ]
          },
          "metadata": {},
          "execution_count": 5
        }
      ]
    },
    {
      "cell_type": "markdown",
      "source": [
        "Решая задачу бинарной классификации, использовались данные с двумя признаками. На данных была обучена логистическая регрессия. Известно, что после обучения вектор весов (w_0, w_1, w_2) = (0.2, 0.7, 0.1). Для объекта x с признаковым описанием (3, 5) Посчитайте модуль отступа. Ответ округлите до десятых. Ответ вводите с точкой."
      ],
      "metadata": {
        "id": "IAAO0Dcd9bjY"
      }
    },
    {
      "cell_type": "code",
      "source": [
        "wx = w@x\n",
        "wx"
      ],
      "metadata": {
        "id": "4wd122SJymZU",
        "colab": {
          "base_uri": "https://localhost:8080/"
        },
        "outputId": "88cbb386-62ad-4e57-fd49-b8bdde53af39"
      },
      "execution_count": null,
      "outputs": [
        {
          "output_type": "execute_result",
          "data": {
            "text/plain": [
              "2.8"
            ]
          },
          "metadata": {},
          "execution_count": 3
        }
      ]
    },
    {
      "cell_type": "code",
      "source": [
        "from sklearn.linear_model import LogisticRegression\n",
        "from sklearn.datasets import make_classification\n",
        "import numpy as np\n",
        "import matplotlib.pyplot as plt"
      ],
      "metadata": {
        "id": "2OqozlBzH41B"
      },
      "execution_count": null,
      "outputs": []
    },
    {
      "cell_type": "code",
      "source": [
        "from sklearn.feature_extraction.text import CountVectorizer\n",
        "vectorizer = CountVectorizer()\n",
        "vectorizer.fit(['метод для восстановления зависимости между двумя переменными', \n",
        "                'статистический метод используемый для задач',\n",
        "                'набор алгоритмов обучения с учителем используемый для задач'])"
      ],
      "metadata": {
        "colab": {
          "base_uri": "https://localhost:8080/"
        },
        "id": "NINyYD-8T-Em",
        "outputId": "dd88cc51-0c79-4a3f-90e7-8565e5416dc6"
      },
      "execution_count": 1,
      "outputs": [
        {
          "output_type": "execute_result",
          "data": {
            "text/plain": [
              "CountVectorizer()"
            ]
          },
          "metadata": {},
          "execution_count": 1
        }
      ]
    },
    {
      "cell_type": "code",
      "source": [
        "vectorizer.get_feature_names()"
      ],
      "metadata": {
        "colab": {
          "base_uri": "https://localhost:8080/"
        },
        "id": "_uDBeM9vXHZx",
        "outputId": "5aa4a15a-79ae-43c4-8f2b-e657aef42b86"
      },
      "execution_count": 2,
      "outputs": [
        {
          "output_type": "stream",
          "name": "stderr",
          "text": [
            "/usr/local/lib/python3.7/dist-packages/sklearn/utils/deprecation.py:87: FutureWarning: Function get_feature_names is deprecated; get_feature_names is deprecated in 1.0 and will be removed in 1.2. Please use get_feature_names_out instead.\n",
            "  warnings.warn(msg, category=FutureWarning)\n"
          ]
        },
        {
          "output_type": "execute_result",
          "data": {
            "text/plain": [
              "['алгоритмов',\n",
              " 'восстановления',\n",
              " 'двумя',\n",
              " 'для',\n",
              " 'зависимости',\n",
              " 'задач',\n",
              " 'используемый',\n",
              " 'между',\n",
              " 'метод',\n",
              " 'набор',\n",
              " 'обучения',\n",
              " 'переменными',\n",
              " 'статистический',\n",
              " 'учителем']"
            ]
          },
          "metadata": {},
          "execution_count": 2
        }
      ]
    },
    {
      "cell_type": "code",
      "source": [
        "len(vectorizer.get_feature_names())"
      ],
      "metadata": {
        "colab": {
          "base_uri": "https://localhost:8080/"
        },
        "id": "p_TPm-T8XJdW",
        "outputId": "18261efb-2ecb-438f-cab6-e129e9a55056"
      },
      "execution_count": 3,
      "outputs": [
        {
          "output_type": "stream",
          "name": "stderr",
          "text": [
            "/usr/local/lib/python3.7/dist-packages/sklearn/utils/deprecation.py:87: FutureWarning: Function get_feature_names is deprecated; get_feature_names is deprecated in 1.0 and will be removed in 1.2. Please use get_feature_names_out instead.\n",
            "  warnings.warn(msg, category=FutureWarning)\n"
          ]
        },
        {
          "output_type": "execute_result",
          "data": {
            "text/plain": [
              "14"
            ]
          },
          "metadata": {},
          "execution_count": 3
        }
      ]
    }
  ]
}