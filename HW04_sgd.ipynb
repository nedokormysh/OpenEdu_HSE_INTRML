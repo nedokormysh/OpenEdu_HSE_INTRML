{
  "nbformat": 4,
  "nbformat_minor": 0,
  "metadata": {
    "colab": {
      "name": "HW04_sgd.ipynb",
      "provenance": [],
      "collapsed_sections": [
        "9eIJwWnInXnr",
        "GBqpfkPwznnh",
        "x83WTZwLB2Hi"
      ],
      "include_colab_link": true
    },
    "kernelspec": {
      "name": "python3",
      "display_name": "Python 3"
    }
  },
  "cells": [
    {
      "cell_type": "markdown",
      "metadata": {
        "id": "view-in-github",
        "colab_type": "text"
      },
      "source": [
        "<a href=\"https://colab.research.google.com/github/nedokormysh/OpenEdu_HSE_INTRML/blob/week4/HW04_sgd.ipynb\" target=\"_parent\"><img src=\"https://colab.research.google.com/assets/colab-badge.svg\" alt=\"Open In Colab\"/></a>"
      ]
    },
    {
      "cell_type": "markdown",
      "metadata": {
        "id": "snxSUWXD7q_p"
      },
      "source": [
        "## Домашнее задание по неделе 4"
      ]
    },
    {
      "cell_type": "markdown",
      "metadata": {
        "id": "j-8OLsAV7wrQ"
      },
      "source": [
        "Как было рассказано на лекции, стохастический градиентый спуск сходится быстрее, чем полный, хотя и менее стабильно. В этом задании вам предлагается реализовать стохастический градиентный спуск и сравнить его с точным вычислением весов линейной модели по скорости работы и значению метрики качества."
      ]
    },
    {
      "cell_type": "code",
      "metadata": {
        "id": "IgQyWw5o7Nej"
      },
      "source": [
        "import matplotlib.pyplot as plt\n",
        "import numpy as np\n",
        "from numpy.linalg import inv\n",
        "import pandas as pd\n",
        "import warnings\n",
        "from sklearn.metrics import mean_absolute_percentage_error\n",
        "\n",
        "\n",
        "np.random.seed(0)\n",
        "\n",
        "warnings.filterwarnings('ignore')\n",
        "%matplotlib inline"
      ],
      "execution_count": null,
      "outputs": []
    },
    {
      "cell_type": "markdown",
      "metadata": {
        "id": "bGD1wQgMruJw"
      },
      "source": [
        "### Задание 0\n",
        "\n",
        "Реализуйте класс ```LinearRegressionSGD``` c обучением и и применением линейной регрессии, построенной с помощью стохастического градиентного спуска, с заданным интерфейсом."
      ]
    },
    {
      "cell_type": "code",
      "metadata": {
        "id": "QZxdV27R9-uc"
      },
      "source": [
        "from sklearn.base import BaseEstimator\n",
        "\n",
        "class LinearRegressionSGD(BaseEstimator):\n",
        "    def __init__(self, epsilon=1e-4, max_steps=100, w0=None, alpha=1e-4):\n",
        "        \"\"\"\n",
        "        epsilon: разница для нормы изменения весов \n",
        "        max_steps: максимальное количество шагов в градиентном спуске\n",
        "        w0: np.array (d,) - начальные веса\n",
        "        alpha: шаг обучения\n",
        "        \"\"\"\n",
        "        self.epsilon = epsilon\n",
        "        self.max_steps = max_steps\n",
        "        self.w0 = w0\n",
        "        self.alpha = alpha\n",
        "        self.w = None\n",
        "        self.w_history = []\n",
        "    \n",
        "    def fit(self, X, y):\n",
        "        # \"\"\"\n",
        "        # X: np.array (l, d)\n",
        "        # y: np.array (l)\n",
        "        # ---\n",
        "        # output: self\n",
        "        # \"\"\"\n",
        "        # ## На каждом шаге градиентного спуска веса необходимо добавлять в w_history\n",
        "        \n",
        "        # return self\n",
        "\n",
        "        \"\"\"\n",
        "        X: np.array (l, d)\n",
        "        y: np.array (l)\n",
        "        ---\n",
        "        output: self\n",
        "        \"\"\"\n",
        "        # print(X.shape)\n",
        "        l, d = X.shape\n",
        "\n",
        "        \n",
        "        if self.w0 is None:\n",
        "          self.w0 = np.zeros(d)\n",
        "        \n",
        "        self.w = self.w0\n",
        "\n",
        "        i = 0\n",
        "\n",
        "        for step in range(self.max_steps):\n",
        "          i += 1\n",
        "          self.w_history.append(self.w)\n",
        "\n",
        "          train_ind = np.random.randint(l)\n",
        "\n",
        "          w_new = self.w - self.alpha * self.calc_gradient(X[train_ind], y[train_ind])\n",
        "\n",
        "          if (np.linalg.norm(w_new - self.w) < self.epsilon):\n",
        "            print(i)\n",
        "            break\n",
        "          \n",
        "          self.w = w_new\n",
        "\n",
        "          # print(self.w)\n",
        "\n",
        "        return self\n",
        "    \n",
        "    def predict(self, X):\n",
        "        # \"\"\"\n",
        "        # X: np.array (l, d)\n",
        "        # ---\n",
        "        # output: np.array (l)\n",
        "        # \"\"\"\n",
        "        \n",
        "        # return \n",
        "        \n",
        "        if self.w is None:\n",
        "            raise Exception('Not trained yet')\n",
        "\n",
        "        return np.dot(X, self.w)\n",
        "    \n",
        "    def calc_gradient(self, X, y):\n",
        "        # \"\"\"\n",
        "        # X: np.array (l, d)\n",
        "        # y: np.array (l)\n",
        "        # ---\n",
        "        # output: np.array (d)\n",
        "        # \"\"\"\n",
        "\n",
        "        # return gradient\n",
        "\n",
        "        \"\"\"\n",
        "        X: np.array (l, d)\n",
        "        y: np.array (l)\n",
        "        ---\n",
        "        output: np.array (d)\n",
        "        \"\"\"\n",
        "        \n",
        "\n",
        "        # l, d = X.shape\n",
        "        # gradient = []\n",
        "\n",
        "        # for j in range(d):\n",
        "        #     dQ = 0\n",
        "        #     for i in range(l):\n",
        "        #         dQ += (2 / l) * X[i][j] * (np.dot(X[i], self.w) - y[i])\n",
        "        #     gradient.append(dQ)\n",
        "        # l, d = X.shape\n",
        "\n",
        "        # return (2/l) * np.dot(X.T,(np.dot(X, self.w) - y))\n",
        "        return 2 * np.dot(X.T,(np.dot(X, self.w) - y))\n",
        "\n",
        "        # return np.array(gradient)"
      ],
      "execution_count": null,
      "outputs": []
    },
    {
      "cell_type": "markdown",
      "metadata": {
        "id": "SNOm9-bXpdT3"
      },
      "source": [
        "Проверять работу мы будем на имеющемся в sklearn наборе данных boston: в нём нужно по информации о доме предсказать его стоимость."
      ]
    },
    {
      "cell_type": "code",
      "metadata": {
        "id": "c24JCwes9-pe"
      },
      "source": [
        "from sklearn.datasets import load_boston\n",
        "from sklearn.model_selection import train_test_split\n",
        "\n",
        "data = load_boston()\n",
        "X = pd.DataFrame(data.data, columns=data.feature_names)\n",
        "y = data.target\n",
        "\n",
        "X_train, X_test, y_train, y_test = train_test_split(np.array(X), y, test_size=0.3, random_state=10)"
      ],
      "execution_count": null,
      "outputs": []
    },
    {
      "cell_type": "markdown",
      "metadata": {
        "id": "9eIJwWnInXnr"
      },
      "source": [
        "### Задание 1\n",
        "\n",
        "Метрикой качества в нашей задаче будет MAPE - Mean Absolute Percentage Error. Реализуйте её с заданным интефейсом и вычислите \n",
        "```MAPE(y_test, y_0)```, где ```y_0 = (mean(y_test), mean(y_test), ...)```"
      ]
    },
    {
      "cell_type": "code",
      "metadata": {
        "id": "znoDavxyuLsi"
      },
      "source": [
        "def MAPE(y_true, y_pred):\n",
        "    \"\"\"\n",
        "        y_true: np.array (l)\n",
        "        y_pred: np.array (l)\n",
        "        ---\n",
        "        output: float [0, +inf)\n",
        "    \"\"\"\n",
        "    return "
      ],
      "execution_count": null,
      "outputs": []
    },
    {
      "cell_type": "markdown",
      "source": [
        "#### тестирование mape"
      ],
      "metadata": {
        "id": "GBqpfkPwznnh"
      }
    },
    {
      "cell_type": "code",
      "source": [
        "y_true_tst_1 = [3, -0.5, 2, 7]\n",
        "y_pred_tst_1 = [2.5, 0.0, 2, 8]"
      ],
      "metadata": {
        "id": "tD5eqNXDzrWY"
      },
      "execution_count": null,
      "outputs": []
    },
    {
      "cell_type": "code",
      "source": [
        "y_true_tst_2 = [1, 2, 1, 2, 3, -0.5]\n",
        "y_pred_tst_2 = [1, 1, 1, 1, 1, 2]"
      ],
      "metadata": {
        "id": "OXgVQRISyd3I"
      },
      "execution_count": null,
      "outputs": []
    },
    {
      "cell_type": "code",
      "source": [
        "mean_absolute_percentage_error(y_true_tst_1, y_pred_tst_1)"
      ],
      "metadata": {
        "colab": {
          "base_uri": "https://localhost:8080/"
        },
        "id": "ZZQNhMbM0BLX",
        "outputId": "4bd8c957-124d-4670-fe6f-2cf7baa15048"
      },
      "execution_count": null,
      "outputs": [
        {
          "output_type": "execute_result",
          "data": {
            "text/plain": [
              "0.3273809523809524"
            ]
          },
          "metadata": {},
          "execution_count": 60
        }
      ]
    },
    {
      "cell_type": "code",
      "source": [
        "mean_absolute_percentage_error(y_true_tst_2, y_pred_tst_2)"
      ],
      "metadata": {
        "colab": {
          "base_uri": "https://localhost:8080/"
        },
        "id": "FApiqy9r4Qg8",
        "outputId": "e18bc558-dd99-44ac-82a4-44724f791069"
      },
      "execution_count": null,
      "outputs": [
        {
          "output_type": "execute_result",
          "data": {
            "text/plain": [
              "1.111111111111111"
            ]
          },
          "metadata": {},
          "execution_count": 55
        }
      ]
    },
    {
      "cell_type": "code",
      "source": [
        "def mape(y_true, y_pred):\n",
        "  y_true, y_pred = np.array(y_true), np.array(y_pred)\n",
        "\n",
        "  return np.mean(np.abs((y_pred - y_true) / y_true))"
      ],
      "metadata": {
        "id": "1m4eqMA-0KS5"
      },
      "execution_count": null,
      "outputs": []
    },
    {
      "cell_type": "code",
      "source": [
        "mape(y_true_tst_1, y_pred_tst_1)"
      ],
      "metadata": {
        "colab": {
          "base_uri": "https://localhost:8080/"
        },
        "id": "79MOzX_z1dbp",
        "outputId": "ea06abfe-dd93-4f8b-c826-560980e90f03"
      },
      "execution_count": null,
      "outputs": [
        {
          "output_type": "execute_result",
          "data": {
            "text/plain": [
              "0.3273809523809524"
            ]
          },
          "metadata": {},
          "execution_count": 31
        }
      ]
    },
    {
      "cell_type": "code",
      "source": [
        "mape(y_true_tst_2, y_pred_tst_2)"
      ],
      "metadata": {
        "colab": {
          "base_uri": "https://localhost:8080/"
        },
        "id": "W4XZKZY54UHU",
        "outputId": "3d5409fd-0e6e-40e0-84f7-ade9130de286"
      },
      "execution_count": null,
      "outputs": [
        {
          "output_type": "execute_result",
          "data": {
            "text/plain": [
              "0.3333333333333333"
            ]
          },
          "metadata": {},
          "execution_count": 51
        }
      ]
    },
    {
      "cell_type": "code",
      "source": [
        "# def mape_2(y_true, y_pred):\n",
        "#   Q = 0\n",
        "  \n",
        "#   for i in range(1, len(y_true)):\n",
        "#     Q += abs((y_true[i] - y_pred[i]) / y_true[i])\n",
        "     \n",
        "#   Q = 100 * Q / len(y_true)\n",
        "#   return Q /100"
      ],
      "metadata": {
        "id": "fKVTt7vu3JFd"
      },
      "execution_count": null,
      "outputs": []
    },
    {
      "cell_type": "code",
      "source": [
        "# mape_2(y_true_tst_1, y_pred_tst_1)"
      ],
      "metadata": {
        "id": "xM7_5frj3bl2"
      },
      "execution_count": null,
      "outputs": []
    },
    {
      "cell_type": "code",
      "source": [
        "# mape_2(y_true_tst_2, y_pred_tst_2)"
      ],
      "metadata": {
        "id": "S_KHp47c4ZwX"
      },
      "execution_count": null,
      "outputs": []
    },
    {
      "cell_type": "markdown",
      "source": [
        "#### Решение задачи"
      ],
      "metadata": {
        "id": "x83WTZwLB2Hi"
      }
    },
    {
      "cell_type": "code",
      "source": [
        "# y_0 = y_test.mean()\n",
        "y_0 = []\n",
        "for i in range(len(y_test)):\n",
        "  y_0.append(y_test.mean())\n",
        "# print(y_test)\n",
        "# print(y_0)\n",
        "# print(len(y_test))\n",
        "# print(len(y_0))\n",
        "mape(y_test, y_0) * 100"
      ],
      "metadata": {
        "colab": {
          "base_uri": "https://localhost:8080/"
        },
        "id": "e6Ofl_5BJ6zp",
        "outputId": "7f8b9b6c-8e0f-458c-8814-456e1d2f1521"
      },
      "execution_count": null,
      "outputs": [
        {
          "output_type": "execute_result",
          "data": {
            "text/plain": [
              "37.41588297684096"
            ]
          },
          "metadata": {},
          "execution_count": 7
        }
      ]
    },
    {
      "cell_type": "code",
      "source": [
        "mean_absolute_percentage_error(y_test, y_0)"
      ],
      "metadata": {
        "colab": {
          "base_uri": "https://localhost:8080/"
        },
        "id": "kYbDPi9RKDLp",
        "outputId": "8772846f-7a84-4e4d-c552-dfb96798098b"
      },
      "execution_count": null,
      "outputs": [
        {
          "output_type": "execute_result",
          "data": {
            "text/plain": [
              "0.37415882976840964"
            ]
          },
          "metadata": {},
          "execution_count": 8
        }
      ]
    },
    {
      "cell_type": "markdown",
      "metadata": {
        "id": "2nNy2ITxuMKf"
      },
      "source": [
        "### Задание 2 \n",
        "\n",
        "Обучите ```LinearRegressionSGD``` с базовыми параметрами на тренировочном наборе данных (```X_train```, ```y_train```), сделайте предсказание на тестовых данных ```X_test```, записав результат в переменную ```y_pred_sgd```  и вычислите ошибку MAPE."
      ]
    },
    {
      "cell_type": "code",
      "source": [
        "def prep(X, y):\n",
        "  n_features = X.shape[1]\n",
        "  # print(n_features)\n",
        "  n_objects = X.shape[0]\n",
        "  # print(n_objects)\n",
        "  num_steps = 2\n",
        "\n",
        "  np.random.seed(1)\n",
        "  w_0 = np.random.uniform(-2, 2, (n_features))\n",
        "\n",
        "  return w_0"
      ],
      "metadata": {
        "id": "Gf3fjYwk18oX"
      },
      "execution_count": null,
      "outputs": []
    },
    {
      "cell_type": "code",
      "source": [
        "w_prep_0 = prep(X_train, y_train)\n",
        "w_prep_0"
      ],
      "metadata": {
        "colab": {
          "base_uri": "https://localhost:8080/"
        },
        "id": "mRtum6_v1_3u",
        "outputId": "83e5b4b3-57e5-4288-99ae-7398858d9e8a"
      },
      "execution_count": null,
      "outputs": [
        {
          "output_type": "execute_result",
          "data": {
            "text/plain": [
              "array([-0.33191198,  0.88129797, -1.9995425 , -0.79066971, -1.41297644,\n",
              "       -1.63064562, -1.25495915, -0.61775709, -0.4129301 ,  0.15526694,\n",
              "       -0.32322194,  0.740878  , -1.182191  ])"
            ]
          },
          "metadata": {},
          "execution_count": 94
        }
      ]
    },
    {
      "cell_type": "code",
      "source": [
        "X_train"
      ],
      "metadata": {
        "colab": {
          "base_uri": "https://localhost:8080/"
        },
        "id": "4rXSNXHQ4Y9a",
        "outputId": "3d60f4ee-d044-421d-ce97-75d8f9fa0c9c"
      },
      "execution_count": null,
      "outputs": [
        {
          "output_type": "execute_result",
          "data": {
            "text/plain": [
              "array([[1.20830e-01, 0.00000e+00, 2.89000e+00, ..., 1.80000e+01,\n",
              "        3.96900e+02, 4.21000e+00],\n",
              "       [3.40060e-01, 0.00000e+00, 2.18900e+01, ..., 2.12000e+01,\n",
              "        3.95040e+02, 1.26000e+01],\n",
              "       [1.50234e+01, 0.00000e+00, 1.81000e+01, ..., 2.02000e+01,\n",
              "        3.49480e+02, 2.49100e+01],\n",
              "       ...,\n",
              "       [2.37857e+00, 0.00000e+00, 1.81000e+01, ..., 2.02000e+01,\n",
              "        3.70730e+02, 1.33400e+01],\n",
              "       [1.69020e-01, 0.00000e+00, 2.56500e+01, ..., 1.91000e+01,\n",
              "        3.85020e+02, 1.48100e+01],\n",
              "       [7.61620e-01, 2.00000e+01, 3.97000e+00, ..., 1.30000e+01,\n",
              "        3.92400e+02, 1.04500e+01]])"
            ]
          },
          "metadata": {},
          "execution_count": 50
        }
      ]
    },
    {
      "cell_type": "code",
      "source": [
        "X_train[:, 12].shape"
      ],
      "metadata": {
        "colab": {
          "base_uri": "https://localhost:8080/"
        },
        "id": "sLBS3b3g3H3v",
        "outputId": "03c402c9-15a6-4f11-b5a3-ff06caa535c7"
      },
      "execution_count": null,
      "outputs": [
        {
          "output_type": "execute_result",
          "data": {
            "text/plain": [
              "(354,)"
            ]
          },
          "metadata": {},
          "execution_count": 45
        }
      ]
    },
    {
      "cell_type": "code",
      "source": [
        "model_sgd = LinearRegressionSGD(w0=w_prep_0, alpha=1e-10)\n",
        "model_sgd.fit(X_train, y_train)\n",
        "y_pred_sgd = model_sgd.predict(X_test)\n",
        "print(mape(y_test, y_pred_sgd) * 100)"
      ],
      "metadata": {
        "id": "Iv7qPR2EBx9e",
        "colab": {
          "base_uri": "https://localhost:8080/"
        },
        "outputId": "557c14d4-4cfc-4cee-8565-33e96ddc2007"
      },
      "execution_count": null,
      "outputs": [
        {
          "output_type": "stream",
          "name": "stdout",
          "text": [
            "1\n",
            "840.845420547911\n"
          ]
        }
      ]
    },
    {
      "cell_type": "code",
      "source": [
        "from sklearn.linear_model import SGDRegressor\n",
        "\n",
        "SGDReg = SGDRegressor(max_iter=100000, tol=1e-3)\n",
        "SGDReg.fit(X_train, y_train)\n",
        "y_pred_SGDreg = model_sgd.predict(X_test)\n",
        "print(mape(y_test, y_pred_SGDreg))"
      ],
      "metadata": {
        "colab": {
          "base_uri": "https://localhost:8080/"
        },
        "id": "D2NmJaoEFqO2",
        "outputId": "247fb10e-7c14-4f15-abd1-1d3324ab21c4"
      },
      "execution_count": null,
      "outputs": [
        {
          "output_type": "stream",
          "name": "stdout",
          "text": [
            "8.40845420547911\n"
          ]
        }
      ]
    },
    {
      "cell_type": "markdown",
      "metadata": {
        "id": "lWappMdMtIPV"
      },
      "source": [
        "### Задание 3\n",
        "\n",
        "Вычислите веса по точной формуле, используя ```X_train``` и ```y_train```; предскажите с их помощью целевую переменную на ```X_test```, записав результат в переменную ```y_pred_lr``` и вычислите ошибку MAPE."
      ]
    },
    {
      "cell_type": "code",
      "metadata": {
        "id": "wjMUlPje9-k0"
      },
      "source": [
        "## y_pred_lr = ...\n",
        "\n",
        "MAPE(y_test, y_pred_lr)"
      ],
      "execution_count": null,
      "outputs": []
    },
    {
      "cell_type": "code",
      "source": [
        "# a, b = X_test.shape\n",
        "# w_0 = np.random.uniform(-2, 2, (b))\n",
        "# lr = LinearRegressionSGD(w0=w_0)\n",
        "# lr.fit(X_train, y_train)\n",
        "# y_pred_lr = lr.predict(X_test)\n",
        "# print(MAPE(y_test, y_pred_lr))"
      ],
      "metadata": {
        "id": "nvuBf-7qEngV"
      },
      "execution_count": null,
      "outputs": []
    },
    {
      "cell_type": "code",
      "source": [
        "# w_precise = np.dot(np.dot(X_train.T, X_train)**(-1), np.dot(X_train.T, y_train)) "
      ],
      "metadata": {
        "id": "llcc-9zCC2Kp"
      },
      "execution_count": null,
      "outputs": []
    },
    {
      "cell_type": "markdown",
      "source": [
        "$w=(X^TX)^{-1}X^Ty$"
      ],
      "metadata": {
        "id": "ceNnGF8hFP3N"
      }
    },
    {
      "cell_type": "code",
      "source": [
        "w_analog = np.dot(inv(np.dot(X_train.T, X_train)), np.dot(X_train.T, y_train))\n",
        "w_analog"
      ],
      "metadata": {
        "colab": {
          "base_uri": "https://localhost:8080/"
        },
        "id": "CHJJnl13FQpx",
        "outputId": "faed971f-d490-4e47-fbf3-3eaccf12fe4d"
      },
      "execution_count": null,
      "outputs": [
        {
          "output_type": "execute_result",
          "data": {
            "text/plain": [
              "array([-1.45793025e-01,  6.40188977e-02, -2.47416777e-02,  1.56887412e+00,\n",
              "       -1.91523982e+00,  5.43085567e+00,  3.45547728e-03, -1.03110328e+00,\n",
              "        1.87024628e-01, -9.29477195e-03, -3.24703939e-01,  1.86182543e-02,\n",
              "       -4.53776475e-01])"
            ]
          },
          "metadata": {},
          "execution_count": 114
        }
      ]
    },
    {
      "cell_type": "code",
      "source": [
        "y_prep_lr = np.dot(X_test, w_analog)\n",
        "y_prep_lr"
      ],
      "metadata": {
        "colab": {
          "base_uri": "https://localhost:8080/"
        },
        "id": "_8lCQkKnHqD3",
        "outputId": "1abe9da7-0048-400b-e628-28ef1ed24eea"
      },
      "execution_count": null,
      "outputs": [
        {
          "output_type": "execute_result",
          "data": {
            "text/plain": [
              "array([30.34582503, 31.24831457, 29.33356798, 25.70451414, 18.43204509,\n",
              "       16.48618502, 35.69910601, 15.90418493, 23.63985816, 38.25773946,\n",
              "       21.55802752, 30.36224556, 25.98671119, 33.21276813, 33.36841304,\n",
              "       42.21297385, 25.16527368, 20.57976463, 23.63152818, 22.55567074,\n",
              "       31.38553297, 19.43922022, 24.43556204, 25.44882623, 32.60657343,\n",
              "       20.75677237, 19.10530651, 18.1383063 , 37.97017025, -3.77744325,\n",
              "       31.40499062, 31.71710679, 27.29073678, 23.35369156, 21.46554664,\n",
              "       19.57328508,  4.38487118, 35.85071127, 25.92959349, 26.51603955,\n",
              "       35.40069675, 28.56642584, 19.78626086, 30.20029954, 17.47905259,\n",
              "       29.05908187, 21.24288777, 21.33445123, 37.7901613 , 17.64092896,\n",
              "       22.13250964, 21.09540115, 22.48517405, 35.72804596, 28.54967663,\n",
              "       34.30925333, 19.62833036, 21.60815278, 15.60640098, 27.13515994,\n",
              "       22.0697755 , 22.8481547 , 41.4247949 , 44.75961712, 29.00249034,\n",
              "       19.02222133, 22.89362104,  0.99784897, 29.8269934 , 33.90617652,\n",
              "       20.21636949, 26.43976666, 19.68228082, 23.87415236, 26.37065907,\n",
              "        9.70711662, 41.49513462,  8.43560125, 18.39024756, 30.10617252,\n",
              "       21.5699398 , 23.38585931, 19.05351099, 27.53869709, 30.77345927,\n",
              "       30.22477723, 25.23533865, 31.42288423, 23.62383638, -8.66470614,\n",
              "       23.10328186, 19.07807246, 24.53246807, 24.12620763, 19.22003016,\n",
              "       19.12071856, 27.33581681, 21.6974761 , 23.92218168, 24.1303973 ,\n",
              "       23.21392674, 18.11367406, 20.16236129,  4.27679941, 14.56676167,\n",
              "       20.45630174, 20.30982257, 15.71626805, 28.81678833, 18.16697637,\n",
              "       16.75024481, 22.69892191, 26.76128404, 28.26397059, 22.9841883 ,\n",
              "       19.83683944, 14.80209959, 16.50836827, 14.89214078, 20.50476258,\n",
              "       33.85458332, 30.96553568, 20.53258687, 14.89330934, 17.0964509 ,\n",
              "       27.37117556, 12.85994038, 18.92886534, 24.50904324, 32.49822431,\n",
              "       32.54849004,  6.29483541, 34.17786752, 26.67475134, 19.78122104,\n",
              "       24.12341761, 27.08900168, 34.97315448,  5.04815528,  1.05810989,\n",
              "       28.69478471, 13.90613225, 20.59236253, 18.42294444,  3.90603709,\n",
              "       13.94222334, 37.00422826, 26.56890325, 22.26002414, 24.1191114 ,\n",
              "       10.29497064, 19.33544196])"
            ]
          },
          "metadata": {},
          "execution_count": 116
        }
      ]
    },
    {
      "cell_type": "code",
      "source": [
        "y_test"
      ],
      "metadata": {
        "colab": {
          "base_uri": "https://localhost:8080/"
        },
        "id": "JvxhW0HPH1jt",
        "outputId": "dd6dd82d-d975-4ca5-92d9-3a9845e71754"
      },
      "execution_count": null,
      "outputs": [
        {
          "output_type": "execute_result",
          "data": {
            "text/plain": [
              "array([28.4, 31.1, 23.5, 26.6, 19.6, 14.3, 50. , 14.3, 20.7, 37.6, 20.4,\n",
              "       27.5, 36.2, 32. , 33.1, 48.8, 24.6, 26.4, 23.2, 17. , 41.3, 14.9,\n",
              "       18.5, 25. , 36.4, 19.5, 27.1, 14.9, 46. , 17.9, 30.3, 31.6, 23.1,\n",
              "       24.7, 16.7, 18.3,  8.4, 37.3, 22.1, 22. , 46.7, 30.1, 12.1, 29.1,\n",
              "       16.6, 23.9, 19.9, 21.4, 45.4, 15.6, 22.7, 12.5, 24.3, 43.8, 22. ,\n",
              "       33.8, 19.3, 22.6, 16.1, 15. , 19.6, 21.2, 50. , 50. , 29.4, 17.8,\n",
              "       22.8,  8.8, 32.5, 42.8, 12.6, 28.6, 19.1, 50. , 27.5, 23.7, 50. ,\n",
              "        7.2, 18.7, 37. , 22.9, 22.9, 17.1, 22. , 23.6, 23.9, 27.1, 29. ,\n",
              "       22.2,  7. , 20.7, 18.5, 21.6, 23. , 16. , 15. , 23.9, 24.4, 22.6,\n",
              "       19.8, 22.2, 18.6, 19.7, 23.1, 13.5, 21.2, 23.1, 13.6, 22.8, 18.2,\n",
              "       13.1, 23.2, 22.8, 25.1, 18.9, 10.9, 19.3, 17.4, 15.6, 20.6, 50. ,\n",
              "       32.7, 21.8, 13.4, 16.6, 23.6, 11. , 23.8, 23.1, 33.2, 28.2,  8.5,\n",
              "       32.4, 29.6, 17.1, 24.2, 26.4, 33.2, 10.5,  8.8, 28. , 10.5, 15.4,\n",
              "       15.3, 10.4, 15.7, 43.1, 24.7, 21. , 19.4, 10.9, 21.7])"
            ]
          },
          "metadata": {},
          "execution_count": 117
        }
      ]
    },
    {
      "cell_type": "code",
      "source": [
        "mape(y_test, y_prep_lr)"
      ],
      "metadata": {
        "colab": {
          "base_uri": "https://localhost:8080/"
        },
        "id": "KReEWfjWH349",
        "outputId": "ebe720ac-20fb-43c5-85f2-9db5cb965845"
      },
      "execution_count": null,
      "outputs": [
        {
          "output_type": "execute_result",
          "data": {
            "text/plain": [
              "0.18953134816376593"
            ]
          },
          "metadata": {},
          "execution_count": 118
        }
      ]
    },
    {
      "cell_type": "markdown",
      "metadata": {
        "id": "yL9L-4cwxZho"
      },
      "source": [
        "## Бонусное задание по неделе 4"
      ]
    },
    {
      "cell_type": "markdown",
      "metadata": {
        "id": "CZFaUn7yx04u"
      },
      "source": [
        "До этого вы релизовывали модели, в которых не было штрафа за величину весов ```w```. Как было рассказано ранее в лекциях, это может привести к неустойчивости модели и переобучению. Чтобы избежать этих эффектов, предлагается добавить к оптимизируемому функционалу L2-норму весов; таким образом, будем решать задачу гребневой регрессии, Ridge:\n",
        "\n",
        "$$ \\frac{1}{l}(Xw-y)^T(Xw-y) +\\gamma||w||_2 \\rightarrow \\min_{w}. $$\n",
        "\n",
        "### Задание 11\n",
        "Реализуйте обучение такой модели в матричном виде (смотрите дополнительные материалы к этой неделе) с помощью стохастического градиентного спуска. Класс должен совпадать по набору реализованных функций с ```LinearRegressionVectorized```, разница будет лишь в параметре $\\gamma$, отвечающем за степень регуляризации. "
      ]
    },
    {
      "cell_type": "code",
      "metadata": {
        "id": "TEXqBqmGxWDz"
      },
      "source": [
        "class RidgeSGD(BaseEstimator):\n",
        "    def __init__(self, epsilon=1e-4, max_steps=1000, w0=None, alpha=1e-2, gamma=0):\n",
        "        \"\"\"\n",
        "        epsilon: разница для нормы изменения весов \n",
        "        max_steps: максимальное количество шагов в градиентном спуске\n",
        "        w0: np.array (d,) - начальные веса\n",
        "        alpha: шаг обучения\n",
        "        gamma: коэффициент регуляризации\n",
        "        \"\"\"\n",
        "        self.epsilon = epsilon\n",
        "        self.max_steps = max_steps\n",
        "        self.w0 = w0\n",
        "        self.alpha = alpha\n",
        "        self.gamma = gamma\n",
        "        self.w = None\n",
        "        self.w_history = []\n",
        "    \n",
        "    def fit(self, X, y):\n",
        "        \"\"\"\n",
        "        X: np.array (l, d)\n",
        "        y: np.array (l)\n",
        "        ---\n",
        "        output: self\n",
        "        \"\"\"\n",
        "        return self\n",
        "    \n",
        "    def predict(self, X):\n",
        "        \"\"\"\n",
        "        X: np.array (l, d)\n",
        "        ---\n",
        "        output: np.array (l)\n",
        "        \"\"\"\n",
        "        pass\n",
        "\n",
        "    \n",
        "    def calc_gradient(self, X, y):\n",
        "        \"\"\"\n",
        "        X: np.array (l, d)\n",
        "        y: np.array (l)\n",
        "        ---\n",
        "        output: np.array (d)\n",
        "        \"\"\"\n",
        "        pass"
      ],
      "execution_count": null,
      "outputs": []
    },
    {
      "cell_type": "markdown",
      "metadata": {
        "id": "6t9rqXFu8Pq6"
      },
      "source": [
        "Так же, как и в основном задании, обучите модель с базовыми параметрами на тренировочных данных и сделайте прогноз y_pred_ridge. Выведите значение MAPE(y_test, y_pred_ridge)."
      ]
    },
    {
      "cell_type": "code",
      "metadata": {
        "id": "6A2hak_A8QPO"
      },
      "source": [
        ""
      ],
      "execution_count": null,
      "outputs": []
    }
  ]
}