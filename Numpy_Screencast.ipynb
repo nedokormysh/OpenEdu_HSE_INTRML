{
  "nbformat": 4,
  "nbformat_minor": 0,
  "metadata": {
    "colab": {
      "name": "Numpy-Screencast.ipynb",
      "provenance": [],
      "collapsed_sections": [],
      "include_colab_link": true
    },
    "kernelspec": {
      "name": "python3",
      "display_name": "Python 3"
    }
  },
  "cells": [
    {
      "cell_type": "markdown",
      "metadata": {
        "id": "view-in-github",
        "colab_type": "text"
      },
      "source": [
        "<a href=\"https://colab.research.google.com/github/nedokormysh/OpenEdu_HSE_INTRML/blob/week3/Numpy_Screencast.ipynb\" target=\"_parent\"><img src=\"https://colab.research.google.com/assets/colab-badge.svg\" alt=\"Open In Colab\"/></a>"
      ]
    },
    {
      "cell_type": "markdown",
      "metadata": {
        "id": "Faqa9juIcNKi"
      },
      "source": [
        "На данном семинаре мы изучим библиотеку [numpy](https://numpy.org/). numpy - очень удобная и быстрая библиотека, которая предсоставляет возможность выполнять различные операции над массивами и матрицами. В машинном обучении многие операции работы с данными могут быть представлены, как операции из линейной алгебры. Именно поэтому знание этой библиотеки очень важно."
      ]
    },
    {
      "cell_type": "markdown",
      "metadata": {
        "id": "O6HByVisdI15"
      },
      "source": [
        "Для начала познакомимся с базовым объектом в numpy - numpy.ndarray"
      ]
    },
    {
      "cell_type": "code",
      "metadata": {
        "id": "CtRyxeH_bl40"
      },
      "source": [
        "import numpy as np"
      ],
      "execution_count": null,
      "outputs": []
    },
    {
      "cell_type": "code",
      "metadata": {
        "id": "8OPtIAsXdj9w"
      },
      "source": [
        "array = np.array([1, 2, 4])"
      ],
      "execution_count": null,
      "outputs": []
    },
    {
      "cell_type": "markdown",
      "metadata": {
        "id": "vldlyEr6dnME"
      },
      "source": [
        "Код выше создал вектор длины 3. Теперь мы можем выполнять различные арифметические операции над этим вектором."
      ]
    },
    {
      "cell_type": "code",
      "metadata": {
        "id": "Kx2sLlhYdmrs",
        "outputId": "951b056e-49d6-4a9a-9462-6ac77c24f444",
        "colab": {
          "base_uri": "https://localhost:8080/"
        }
      },
      "source": [
        "array"
      ],
      "execution_count": null,
      "outputs": [
        {
          "output_type": "execute_result",
          "data": {
            "text/plain": [
              "array([1, 2, 4])"
            ]
          },
          "metadata": {},
          "execution_count": 5
        }
      ]
    },
    {
      "cell_type": "code",
      "metadata": {
        "id": "uFTHKHkNd7jF",
        "outputId": "433c9d3a-ac05-4d0a-be1b-cfcfa66530ad",
        "colab": {
          "base_uri": "https://localhost:8080/"
        }
      },
      "source": [
        "array * 2"
      ],
      "execution_count": null,
      "outputs": [
        {
          "output_type": "execute_result",
          "data": {
            "text/plain": [
              "array([2, 4, 8])"
            ]
          },
          "metadata": {},
          "execution_count": 6
        }
      ]
    },
    {
      "cell_type": "code",
      "metadata": {
        "id": "Ev1XxKxbd8X7",
        "outputId": "6c5f1c45-3a6b-42fd-f621-74ec1b8c81a1",
        "colab": {
          "base_uri": "https://localhost:8080/"
        }
      },
      "source": [
        "array + 5"
      ],
      "execution_count": null,
      "outputs": [
        {
          "output_type": "execute_result",
          "data": {
            "text/plain": [
              "array([6, 7, 9])"
            ]
          },
          "metadata": {},
          "execution_count": 7
        }
      ]
    },
    {
      "cell_type": "code",
      "source": [
        "np.mean(array)"
      ],
      "metadata": {
        "colab": {
          "base_uri": "https://localhost:8080/"
        },
        "id": "WRJK6YDoSB3j",
        "outputId": "f1d006a5-f46c-4755-ec56-26e16ad21aa6"
      },
      "execution_count": null,
      "outputs": [
        {
          "output_type": "execute_result",
          "data": {
            "text/plain": [
              "2.3333333333333335"
            ]
          },
          "metadata": {},
          "execution_count": 8
        }
      ]
    },
    {
      "cell_type": "code",
      "source": [
        "np.sum(array)"
      ],
      "metadata": {
        "colab": {
          "base_uri": "https://localhost:8080/"
        },
        "id": "UyRUaRN5SK1t",
        "outputId": "d813a292-0633-40c0-a280-ad58af71e9dc"
      },
      "execution_count": null,
      "outputs": [
        {
          "output_type": "execute_result",
          "data": {
            "text/plain": [
              "7"
            ]
          },
          "metadata": {},
          "execution_count": 9
        }
      ]
    },
    {
      "cell_type": "code",
      "source": [
        "np.zeros(4)"
      ],
      "metadata": {
        "colab": {
          "base_uri": "https://localhost:8080/"
        },
        "id": "HW76ErLWSQtD",
        "outputId": "67828a91-649b-4b3e-cb98-59a76417a006"
      },
      "execution_count": null,
      "outputs": [
        {
          "output_type": "execute_result",
          "data": {
            "text/plain": [
              "array([0., 0., 0., 0.])"
            ]
          },
          "metadata": {},
          "execution_count": 10
        }
      ]
    },
    {
      "cell_type": "code",
      "source": [
        "np.ones(6)"
      ],
      "metadata": {
        "colab": {
          "base_uri": "https://localhost:8080/"
        },
        "id": "TGHhYxqUSX0J",
        "outputId": "ea7f7421-98a5-4131-99fa-8ab54f39f1fe"
      },
      "execution_count": null,
      "outputs": [
        {
          "output_type": "execute_result",
          "data": {
            "text/plain": [
              "array([1., 1., 1., 1., 1., 1.])"
            ]
          },
          "metadata": {},
          "execution_count": 11
        }
      ]
    },
    {
      "cell_type": "code",
      "source": [
        "np.arange(5)"
      ],
      "metadata": {
        "colab": {
          "base_uri": "https://localhost:8080/"
        },
        "id": "YJzZ28qja06w",
        "outputId": "9a5be8e7-c659-46cf-dd2a-e53681788ba3"
      },
      "execution_count": null,
      "outputs": [
        {
          "output_type": "execute_result",
          "data": {
            "text/plain": [
              "array([0, 1, 2, 3, 4])"
            ]
          },
          "metadata": {},
          "execution_count": 12
        }
      ]
    },
    {
      "cell_type": "code",
      "source": [
        "np.zeros((5, 6))"
      ],
      "metadata": {
        "colab": {
          "base_uri": "https://localhost:8080/"
        },
        "id": "a3S7c9rQa9xB",
        "outputId": "dfff0031-b746-4f21-dcf2-56ea0fb7740e"
      },
      "execution_count": null,
      "outputs": [
        {
          "output_type": "execute_result",
          "data": {
            "text/plain": [
              "array([[0., 0., 0., 0., 0., 0.],\n",
              "       [0., 0., 0., 0., 0., 0.],\n",
              "       [0., 0., 0., 0., 0., 0.],\n",
              "       [0., 0., 0., 0., 0., 0.],\n",
              "       [0., 0., 0., 0., 0., 0.]])"
            ]
          },
          "metadata": {},
          "execution_count": 13
        }
      ]
    },
    {
      "cell_type": "code",
      "source": [
        "X = np.random.normal(size=(3, 3))"
      ],
      "metadata": {
        "id": "kHNtWI46bVlb"
      },
      "execution_count": null,
      "outputs": []
    },
    {
      "cell_type": "code",
      "source": [
        "X"
      ],
      "metadata": {
        "colab": {
          "base_uri": "https://localhost:8080/"
        },
        "id": "TmZ57_B3clRe",
        "outputId": "c2966ea3-d606-4c7c-a8b9-229beb3b7a27"
      },
      "execution_count": null,
      "outputs": [
        {
          "output_type": "execute_result",
          "data": {
            "text/plain": [
              "array([[-0.97207539, -1.06404618,  0.22788302],\n",
              "       [ 0.55305239,  0.23002691, -0.41094772],\n",
              "       [-0.51508366,  2.60427071,  1.64788214]])"
            ]
          },
          "metadata": {},
          "execution_count": 26
        }
      ]
    },
    {
      "cell_type": "code",
      "source": [
        "X.dot(X)"
      ],
      "metadata": {
        "colab": {
          "base_uri": "https://localhost:8080/"
        },
        "id": "9qLbLiYGbrc1",
        "outputId": "9573365f-35bb-406c-f584-6c4ab0b4fe4b"
      },
      "execution_count": null,
      "outputs": [
        {
          "output_type": "execute_result",
          "data": {
            "text/plain": [
              "array([[ 0.23907847,  1.38304293,  0.59127224],\n",
              "       [-0.19871923, -1.60578002, -0.6456912 ],\n",
              "       [ 1.09220112,  5.43865632,  1.52791761]])"
            ]
          },
          "metadata": {},
          "execution_count": 20
        }
      ]
    },
    {
      "cell_type": "code",
      "source": [
        "X @ X"
      ],
      "metadata": {
        "colab": {
          "base_uri": "https://localhost:8080/"
        },
        "id": "IPn6KE8Fb3MF",
        "outputId": "b87ea5f1-c707-4342-8465-bf21feb97892"
      },
      "execution_count": null,
      "outputs": [
        {
          "output_type": "execute_result",
          "data": {
            "text/plain": [
              "array([[ 0.23907847,  1.38304293,  0.59127224],\n",
              "       [-0.19871923, -1.60578002, -0.6456912 ],\n",
              "       [ 1.09220112,  5.43865632,  1.52791761]])"
            ]
          },
          "metadata": {},
          "execution_count": 21
        }
      ]
    },
    {
      "cell_type": "code",
      "source": [
        "np.linalg.det(X)"
      ],
      "metadata": {
        "colab": {
          "base_uri": "https://localhost:8080/"
        },
        "id": "WdgURSLwcH5O",
        "outputId": "8254562b-bf9e-466c-9be5-24f7eb540caa"
      },
      "execution_count": null,
      "outputs": [
        {
          "output_type": "execute_result",
          "data": {
            "text/plain": [
              "-0.3090807551125686"
            ]
          },
          "metadata": {},
          "execution_count": 22
        }
      ]
    },
    {
      "cell_type": "markdown",
      "source": [
        "strings"
      ],
      "metadata": {
        "id": "U-srBwGXc9lF"
      }
    },
    {
      "cell_type": "code",
      "source": [
        "X[[0, 2]]"
      ],
      "metadata": {
        "colab": {
          "base_uri": "https://localhost:8080/"
        },
        "id": "WGUV2cNucZ2V",
        "outputId": "07809053-4888-4e8e-a996-8cebab4a5c91"
      },
      "execution_count": null,
      "outputs": [
        {
          "output_type": "execute_result",
          "data": {
            "text/plain": [
              "array([[-0.97207539, -1.06404618,  0.22788302],\n",
              "       [-0.51508366,  2.60427071,  1.64788214]])"
            ]
          },
          "metadata": {},
          "execution_count": 25
        }
      ]
    },
    {
      "cell_type": "markdown",
      "source": [
        "columns"
      ],
      "metadata": {
        "id": "0gvrNp8Mc_zD"
      }
    },
    {
      "cell_type": "code",
      "source": [
        "X[:, [0, 2]]"
      ],
      "metadata": {
        "colab": {
          "base_uri": "https://localhost:8080/"
        },
        "id": "VLx72RmgcybW",
        "outputId": "7d523d1b-5dda-44f1-a11d-834540e375eb"
      },
      "execution_count": null,
      "outputs": [
        {
          "output_type": "execute_result",
          "data": {
            "text/plain": [
              "array([[-0.97207539,  0.22788302],\n",
              "       [ 0.55305239, -0.41094772],\n",
              "       [-0.51508366,  1.64788214]])"
            ]
          },
          "metadata": {},
          "execution_count": 27
        }
      ]
    },
    {
      "cell_type": "code",
      "source": [
        "X[0, 1]"
      ],
      "metadata": {
        "colab": {
          "base_uri": "https://localhost:8080/"
        },
        "id": "leZh4snpdURX",
        "outputId": "3c1446a4-94f0-4d28-d481-fd225ab6e8ec"
      },
      "execution_count": null,
      "outputs": [
        {
          "output_type": "execute_result",
          "data": {
            "text/plain": [
              "-1.0640461832748493"
            ]
          },
          "metadata": {},
          "execution_count": 28
        }
      ]
    },
    {
      "cell_type": "markdown",
      "source": [
        "Пусть хотим взять только те строки, где сумма элементов больше нуля. Для этого нужно посчитать сумму в строках, т.е. сумму вдоль столбцовой оси."
      ],
      "metadata": {
        "id": "-5evkbXoeDWi"
      }
    },
    {
      "cell_type": "code",
      "source": [
        "np.sum(X, axis=1)"
      ],
      "metadata": {
        "colab": {
          "base_uri": "https://localhost:8080/"
        },
        "id": "wvL4boJ9eW6V",
        "outputId": "f64735e0-af33-472c-82ab-5fda63ee1a13"
      },
      "execution_count": null,
      "outputs": [
        {
          "output_type": "execute_result",
          "data": {
            "text/plain": [
              "array([-1.80823856,  0.37213157,  3.73706918])"
            ]
          },
          "metadata": {},
          "execution_count": 29
        }
      ]
    },
    {
      "cell_type": "code",
      "source": [
        "np.sum(X, axis=1) > 0"
      ],
      "metadata": {
        "colab": {
          "base_uri": "https://localhost:8080/"
        },
        "id": "oQCiaPORe2al",
        "outputId": "63b6a9b7-9ef4-41a7-d26a-628a5a514bb3"
      },
      "execution_count": null,
      "outputs": [
        {
          "output_type": "execute_result",
          "data": {
            "text/plain": [
              "array([False,  True,  True])"
            ]
          },
          "metadata": {},
          "execution_count": 30
        }
      ]
    },
    {
      "cell_type": "code",
      "source": [
        "X[np.sum(X, axis=1) > 0]"
      ],
      "metadata": {
        "colab": {
          "base_uri": "https://localhost:8080/"
        },
        "id": "WckP2Boue7NZ",
        "outputId": "d2f23223-27ce-4758-a96c-849d3d04d7be"
      },
      "execution_count": null,
      "outputs": [
        {
          "output_type": "execute_result",
          "data": {
            "text/plain": [
              "array([[ 0.55305239,  0.23002691, -0.41094772],\n",
              "       [-0.51508366,  2.60427071,  1.64788214]])"
            ]
          },
          "metadata": {},
          "execution_count": 31
        }
      ]
    },
    {
      "cell_type": "code",
      "source": [
        "X[:, np.sum(X, axis=1) > 0]"
      ],
      "metadata": {
        "colab": {
          "base_uri": "https://localhost:8080/"
        },
        "id": "C59YWspnfHA_",
        "outputId": "eb0eb356-5d9d-4d99-8d07-39838d7f43ef"
      },
      "execution_count": null,
      "outputs": [
        {
          "output_type": "execute_result",
          "data": {
            "text/plain": [
              "array([[-1.06404618,  0.22788302],\n",
              "       [ 0.23002691, -0.41094772],\n",
              "       [ 2.60427071,  1.64788214]])"
            ]
          },
          "metadata": {},
          "execution_count": 32
        }
      ]
    },
    {
      "cell_type": "markdown",
      "source": [
        "Нампай написан на си, поэтому он в разы быстрее, чем листы в питоне."
      ],
      "metadata": {
        "id": "ANdlpJ4ogAe7"
      }
    },
    {
      "cell_type": "code",
      "source": [
        "%%time\n",
        "1 + 1"
      ],
      "metadata": {
        "colab": {
          "base_uri": "https://localhost:8080/"
        },
        "id": "i0cLxU8nftty",
        "outputId": "5fe1584f-d5a9-4238-ce39-8f1fc80e9da1"
      },
      "execution_count": null,
      "outputs": [
        {
          "output_type": "stream",
          "name": "stdout",
          "text": [
            "CPU times: user 2 µs, sys: 0 ns, total: 2 µs\n",
            "Wall time: 4.53 µs\n"
          ]
        },
        {
          "output_type": "execute_result",
          "data": {
            "text/plain": [
              "2"
            ]
          },
          "metadata": {},
          "execution_count": 33
        }
      ]
    },
    {
      "cell_type": "code",
      "source": [
        "a = np.arange(100000)"
      ],
      "metadata": {
        "id": "leJkyzKnf5Q4"
      },
      "execution_count": null,
      "outputs": []
    },
    {
      "cell_type": "code",
      "source": [
        "b = np.random.normal(size=100000)"
      ],
      "metadata": {
        "id": "M8-tqDjCgUXl"
      },
      "execution_count": null,
      "outputs": []
    },
    {
      "cell_type": "code",
      "source": [
        "%%time\n",
        "\n",
        "np.sum(a*b)"
      ],
      "metadata": {
        "colab": {
          "base_uri": "https://localhost:8080/"
        },
        "id": "Htg6wsYzgl7S",
        "outputId": "cecc0ddf-cbc1-4976-b152-6fe6259af599"
      },
      "execution_count": null,
      "outputs": [
        {
          "output_type": "stream",
          "name": "stdout",
          "text": [
            "CPU times: user 1.93 ms, sys: 1.06 ms, total: 3 ms\n",
            "Wall time: 1.93 ms\n"
          ]
        },
        {
          "output_type": "execute_result",
          "data": {
            "text/plain": [
              "-13449133.125088636"
            ]
          },
          "metadata": {},
          "execution_count": 36
        }
      ]
    },
    {
      "cell_type": "code",
      "source": [
        "%%time\n",
        "sum_prod = 0\n",
        "\n",
        "for i in range(100000):\n",
        "  sum_prod += a[i] * b[i]"
      ],
      "metadata": {
        "colab": {
          "base_uri": "https://localhost:8080/"
        },
        "id": "Ww9-3pLrgxYe",
        "outputId": "678d9ad5-423c-442d-a6f8-20689ed546ef"
      },
      "execution_count": null,
      "outputs": [
        {
          "output_type": "stream",
          "name": "stdout",
          "text": [
            "CPU times: user 277 ms, sys: 867 µs, total: 278 ms\n",
            "Wall time: 281 ms\n"
          ]
        }
      ]
    },
    {
      "cell_type": "markdown",
      "metadata": {
        "id": "EKqA9eq5eBU6"
      },
      "source": [
        "Мы можем выполнять поэлементные операции на массивах одинаковой длины."
      ]
    },
    {
      "cell_type": "code",
      "metadata": {
        "id": "nX165dp2d-K0"
      },
      "source": [
        "array_2 = np.array([9, 2, 0])"
      ],
      "execution_count": null,
      "outputs": []
    },
    {
      "cell_type": "code",
      "metadata": {
        "id": "fq25PgpzeQhb",
        "outputId": "2e86c35e-0666-4f4d-d4ef-b82953f4ea84",
        "colab": {
          "base_uri": "https://localhost:8080/",
          "height": 36
        }
      },
      "source": [
        "array + array_2"
      ],
      "execution_count": null,
      "outputs": [
        {
          "output_type": "execute_result",
          "data": {
            "text/plain": [
              "array([10,  4,  4])"
            ]
          },
          "metadata": {
            "tags": []
          },
          "execution_count": 7
        }
      ]
    },
    {
      "cell_type": "code",
      "metadata": {
        "id": "gxThb245eRoZ",
        "outputId": "5c2a5bb2-6f78-4c0a-b0db-758942165834",
        "colab": {
          "base_uri": "https://localhost:8080/",
          "height": 36
        }
      },
      "source": [
        "array * array_2"
      ],
      "execution_count": null,
      "outputs": [
        {
          "output_type": "execute_result",
          "data": {
            "text/plain": [
              "array([9, 4, 0])"
            ]
          },
          "metadata": {
            "tags": []
          },
          "execution_count": 8
        }
      ]
    },
    {
      "cell_type": "markdown",
      "metadata": {
        "id": "pa5TZo2leYmC"
      },
      "source": [
        "С массивами можно работать как с листами и вытаскивать оттуда элементы по индексу. В тоже время, можно использовать индексацию по условию и вытаскивать элементы с помощью булевой маски."
      ]
    },
    {
      "cell_type": "code",
      "metadata": {
        "id": "Y0fVJZnneTIe",
        "outputId": "6c16ce25-bde4-489a-9708-e73db456e40d",
        "colab": {
          "base_uri": "https://localhost:8080/",
          "height": 36
        }
      },
      "source": [
        "array[1]"
      ],
      "execution_count": null,
      "outputs": [
        {
          "output_type": "execute_result",
          "data": {
            "text/plain": [
              "2"
            ]
          },
          "metadata": {
            "tags": []
          },
          "execution_count": 9
        }
      ]
    },
    {
      "cell_type": "code",
      "metadata": {
        "id": "CXhnH8rTfJQM",
        "outputId": "5079b47d-b0de-462c-b9e3-8dee1761d318",
        "colab": {
          "base_uri": "https://localhost:8080/",
          "height": 36
        }
      },
      "source": [
        "array[1:]"
      ],
      "execution_count": null,
      "outputs": [
        {
          "output_type": "execute_result",
          "data": {
            "text/plain": [
              "array([2, 4])"
            ]
          },
          "metadata": {
            "tags": []
          },
          "execution_count": 11
        }
      ]
    },
    {
      "cell_type": "code",
      "metadata": {
        "id": "35Rxh_3mfKGH",
        "outputId": "ca29a61e-5a64-4d95-ca50-f3984262c7cc",
        "colab": {
          "base_uri": "https://localhost:8080/",
          "height": 55
        }
      },
      "source": [
        "print(array_2 > 0)\n",
        "print(array[array_2 > 0])"
      ],
      "execution_count": null,
      "outputs": [
        {
          "output_type": "stream",
          "text": [
            "[ True  True False]\n",
            "[1 2]\n"
          ],
          "name": "stdout"
        }
      ]
    },
    {
      "cell_type": "markdown",
      "metadata": {
        "id": "2eHjjE2BfT0W"
      },
      "source": [
        "В numpy можно работать не только с векторами, но и с матрицами и массивами большей размерности. Давайте создадим матрицу, которая состоит из одних единиц."
      ]
    },
    {
      "cell_type": "code",
      "metadata": {
        "id": "OKZib4W_f6I6"
      },
      "source": [
        "matrix = np.ones((2, 4))"
      ],
      "execution_count": null,
      "outputs": []
    },
    {
      "cell_type": "code",
      "metadata": {
        "id": "ehCH_pHQf-jM",
        "outputId": "4c789c30-8e43-40e9-f048-84f7dc7f3060",
        "colab": {
          "base_uri": "https://localhost:8080/",
          "height": 36
        }
      },
      "source": [
        "matrix.shape"
      ],
      "execution_count": null,
      "outputs": [
        {
          "output_type": "execute_result",
          "data": {
            "text/plain": [
              "(2, 4)"
            ]
          },
          "metadata": {
            "tags": []
          },
          "execution_count": 16
        }
      ]
    },
    {
      "cell_type": "code",
      "metadata": {
        "id": "l9Obz8oVfN0Y",
        "outputId": "9067bf46-2f04-4eb3-fa04-5256338cf56b",
        "colab": {
          "base_uri": "https://localhost:8080/",
          "height": 55
        }
      },
      "source": [
        "matrix"
      ],
      "execution_count": null,
      "outputs": [
        {
          "output_type": "execute_result",
          "data": {
            "text/plain": [
              "array([[1., 1., 1., 1.],\n",
              "       [1., 1., 1., 1.]])"
            ]
          },
          "metadata": {
            "tags": []
          },
          "execution_count": 17
        }
      ]
    },
    {
      "cell_type": "markdown",
      "metadata": {
        "id": "mWURgYoggDZk"
      },
      "source": [
        "Над матрицами мы можем выполнять все те же операции, что и над векторами. Также мы можем считать среднее, сумму как по всем элементам, так и вдоль осей."
      ]
    },
    {
      "cell_type": "code",
      "metadata": {
        "id": "WcbxWEXOglhb",
        "outputId": "fb2a01a9-bf3c-40c4-cc50-db760487a880",
        "colab": {
          "base_uri": "https://localhost:8080/",
          "height": 36
        }
      },
      "source": [
        "np.sum(matrix)"
      ],
      "execution_count": null,
      "outputs": [
        {
          "output_type": "execute_result",
          "data": {
            "text/plain": [
              "8.0"
            ]
          },
          "metadata": {
            "tags": []
          },
          "execution_count": 18
        }
      ]
    },
    {
      "cell_type": "code",
      "metadata": {
        "id": "ZROV-p9bgAsQ",
        "outputId": "513be0a6-ba4c-40f2-d3f6-df4d0fb4645b",
        "colab": {
          "base_uri": "https://localhost:8080/",
          "height": 36
        }
      },
      "source": [
        "np.sum(matrix, axis=1)"
      ],
      "execution_count": null,
      "outputs": [
        {
          "output_type": "execute_result",
          "data": {
            "text/plain": [
              "array([4., 4.])"
            ]
          },
          "metadata": {
            "tags": []
          },
          "execution_count": 19
        }
      ]
    },
    {
      "cell_type": "markdown",
      "metadata": {
        "id": "_pFZXDusgxC4"
      },
      "source": [
        "Можем создавать случайный матрицы."
      ]
    },
    {
      "cell_type": "code",
      "metadata": {
        "id": "Sr6ZfKD_g5jU",
        "outputId": "76d10470-d669-41c7-f8f3-3913cff4dd23",
        "colab": {
          "base_uri": "https://localhost:8080/",
          "height": 55
        }
      },
      "source": [
        "random_matrix = np.random.normal(size=(2, 2))\n",
        "random_matrix"
      ],
      "execution_count": null,
      "outputs": [
        {
          "output_type": "execute_result",
          "data": {
            "text/plain": [
              "array([[-0.15202536,  0.04675802],\n",
              "       [ 0.60686314, -0.45267678]])"
            ]
          },
          "metadata": {
            "tags": []
          },
          "execution_count": 22
        }
      ]
    },
    {
      "cell_type": "markdown",
      "metadata": {
        "id": "RjrpBmwzhAjk"
      },
      "source": [
        "Можем умножать матрицы и выполнять различные операции линейной алгебры."
      ]
    },
    {
      "cell_type": "code",
      "metadata": {
        "id": "GSmVh5K_gwek",
        "outputId": "280857a5-94b7-4056-e701-da019645fcdb",
        "colab": {
          "base_uri": "https://localhost:8080/",
          "height": 92
        }
      },
      "source": [
        "matrix.T @ random_matrix"
      ],
      "execution_count": null,
      "outputs": [
        {
          "output_type": "execute_result",
          "data": {
            "text/plain": [
              "array([[ 0.45483778, -0.40591875],\n",
              "       [ 0.45483778, -0.40591875],\n",
              "       [ 0.45483778, -0.40591875],\n",
              "       [ 0.45483778, -0.40591875]])"
            ]
          },
          "metadata": {
            "tags": []
          },
          "execution_count": 25
        }
      ]
    },
    {
      "cell_type": "code",
      "metadata": {
        "id": "AaXCC7TcgqdJ",
        "outputId": "4df921c7-1eee-4b53-8ceb-e5c7d618d433",
        "colab": {
          "base_uri": "https://localhost:8080/",
          "height": 36
        }
      },
      "source": [
        "np.linalg.det(random_matrix)"
      ],
      "execution_count": null,
      "outputs": [
        {
          "output_type": "execute_result",
          "data": {
            "text/plain": [
              "0.040442629348055266"
            ]
          },
          "metadata": {
            "tags": []
          },
          "execution_count": 26
        }
      ]
    },
    {
      "cell_type": "code",
      "metadata": {
        "id": "gMnfvqjjhb_J",
        "outputId": "f999bbe2-055c-494e-e98f-4df7c98f69fb",
        "colab": {
          "base_uri": "https://localhost:8080/",
          "height": 36
        }
      },
      "source": [
        "np.linalg.matrix_rank(random_matrix)"
      ],
      "execution_count": null,
      "outputs": [
        {
          "output_type": "execute_result",
          "data": {
            "text/plain": [
              "2"
            ]
          },
          "metadata": {
            "tags": []
          },
          "execution_count": 27
        }
      ]
    },
    {
      "cell_type": "code",
      "metadata": {
        "id": "YY3PGlYVhvHR"
      },
      "source": [
        ""
      ],
      "execution_count": null,
      "outputs": []
    }
  ]
}