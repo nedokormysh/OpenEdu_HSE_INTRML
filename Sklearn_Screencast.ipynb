{
  "nbformat": 4,
  "nbformat_minor": 0,
  "metadata": {
    "colab": {
      "name": "Sklearn-Screencast.ipynb",
      "provenance": [],
      "collapsed_sections": [],
      "include_colab_link": true
    },
    "kernelspec": {
      "name": "python3",
      "display_name": "Python 3"
    }
  },
  "cells": [
    {
      "cell_type": "markdown",
      "metadata": {
        "id": "view-in-github",
        "colab_type": "text"
      },
      "source": [
        "<a href=\"https://colab.research.google.com/github/nedokormysh/OpenEdu_HSE_INTRML/blob/week2/Sklearn_Screencast.ipynb\" target=\"_parent\"><img src=\"https://colab.research.google.com/assets/colab-badge.svg\" alt=\"Open In Colab\"/></a>"
      ]
    },
    {
      "cell_type": "markdown",
      "metadata": {
        "id": "V2tCO10RQu36"
      },
      "source": [
        "Сегодня мы попробуем поработать с библиотекой scikit-learn. Эта библиотека включает в себя множество алгоритмов, несколько тестовых наборов данных, функции для подсчета метрик и подбора параметров.\n",
        "\n",
        "---\n",
        "\n",
        "Scikit-learn появился как проект David Cournapeau на Google Summer of Code. Позднее к проекту присоединились другие разработчики, и первый релиз библиотеки состоялся 1 февраля 2010 года. Она быстро стало популярной за большое количество алгоритмов и простоту использования. sklearn полезна для экспериментов,  написания быстрых прототипов, участия в соревнованиях по анализу данных и во множестве других приложения. В тоже время, для промышленных проектов она может не подходить ввиду не оптимизированного кода и выбранного языка.\n",
        "\n"
      ]
    },
    {
      "cell_type": "markdown",
      "metadata": {
        "id": "DWjobx8iS30c"
      },
      "source": [
        "Возьмем стандартный датасет c помощью функции load_boston. Датасет содержит информацию о ценах на квартиры и какие-то параметры квартиры: близость к реке, криминогенная обстановка в районе и т.д."
      ]
    },
    {
      "cell_type": "markdown",
      "source": [
        "# Регрессия"
      ],
      "metadata": {
        "id": "4Pxz7q_4uiO0"
      }
    },
    {
      "cell_type": "code",
      "metadata": {
        "id": "kSRs-70m9bo4"
      },
      "source": [
        "from sklearn.datasets import load_boston"
      ],
      "execution_count": null,
      "outputs": []
    },
    {
      "cell_type": "code",
      "metadata": {
        "id": "0LunugoX90W_",
        "outputId": "04814ad5-2aa5-412e-badb-7558882dda97",
        "colab": {
          "base_uri": "https://localhost:8080/"
        }
      },
      "source": [
        "data = load_boston()\n",
        "data['feature_names']"
      ],
      "execution_count": null,
      "outputs": [
        {
          "output_type": "stream",
          "name": "stderr",
          "text": [
            "/usr/local/lib/python3.7/dist-packages/sklearn/utils/deprecation.py:87: FutureWarning: Function load_boston is deprecated; `load_boston` is deprecated in 1.0 and will be removed in 1.2.\n",
            "\n",
            "    The Boston housing prices dataset has an ethical problem. You can refer to\n",
            "    the documentation of this function for further details.\n",
            "\n",
            "    The scikit-learn maintainers therefore strongly discourage the use of this\n",
            "    dataset unless the purpose of the code is to study and educate about\n",
            "    ethical issues in data science and machine learning.\n",
            "\n",
            "    In this special case, you can fetch the dataset from the original\n",
            "    source::\n",
            "\n",
            "        import pandas as pd\n",
            "        import numpy as np\n",
            "\n",
            "\n",
            "        data_url = \"http://lib.stat.cmu.edu/datasets/boston\"\n",
            "        raw_df = pd.read_csv(data_url, sep=\"\\s+\", skiprows=22, header=None)\n",
            "        data = np.hstack([raw_df.values[::2, :], raw_df.values[1::2, :2]])\n",
            "        target = raw_df.values[1::2, 2]\n",
            "\n",
            "    Alternative datasets include the California housing dataset (i.e.\n",
            "    :func:`~sklearn.datasets.fetch_california_housing`) and the Ames housing\n",
            "    dataset. You can load the datasets as follows::\n",
            "\n",
            "        from sklearn.datasets import fetch_california_housing\n",
            "        housing = fetch_california_housing()\n",
            "\n",
            "    for the California housing dataset and::\n",
            "\n",
            "        from sklearn.datasets import fetch_openml\n",
            "        housing = fetch_openml(name=\"house_prices\", as_frame=True)\n",
            "\n",
            "    for the Ames housing dataset.\n",
            "    \n",
            "  warnings.warn(msg, category=FutureWarning)\n"
          ]
        },
        {
          "output_type": "execute_result",
          "data": {
            "text/plain": [
              "array(['CRIM', 'ZN', 'INDUS', 'CHAS', 'NOX', 'RM', 'AGE', 'DIS', 'RAD',\n",
              "       'TAX', 'PTRATIO', 'B', 'LSTAT'], dtype='<U7')"
            ]
          },
          "metadata": {},
          "execution_count": 2
        }
      ]
    },
    {
      "cell_type": "markdown",
      "metadata": {
        "id": "njM2PixdUEFP"
      },
      "source": [
        "Прочитать описание датасета можно выполнив строчку: `print(data['DESCR'])`"
      ]
    },
    {
      "cell_type": "code",
      "source": [
        "# data"
      ],
      "metadata": {
        "id": "BUygdmYXzTN6"
      },
      "execution_count": null,
      "outputs": []
    },
    {
      "cell_type": "code",
      "source": [
        "print(data['DESCR'])"
      ],
      "metadata": {
        "colab": {
          "base_uri": "https://localhost:8080/"
        },
        "id": "097YfF-E9_fc",
        "outputId": "cf72c2f7-abd6-422a-dcd5-eb8c6509a78c"
      },
      "execution_count": null,
      "outputs": [
        {
          "output_type": "stream",
          "name": "stdout",
          "text": [
            ".. _boston_dataset:\n",
            "\n",
            "Boston house prices dataset\n",
            "---------------------------\n",
            "\n",
            "**Data Set Characteristics:**  \n",
            "\n",
            "    :Number of Instances: 506 \n",
            "\n",
            "    :Number of Attributes: 13 numeric/categorical predictive. Median Value (attribute 14) is usually the target.\n",
            "\n",
            "    :Attribute Information (in order):\n",
            "        - CRIM     per capita crime rate by town\n",
            "        - ZN       proportion of residential land zoned for lots over 25,000 sq.ft.\n",
            "        - INDUS    proportion of non-retail business acres per town\n",
            "        - CHAS     Charles River dummy variable (= 1 if tract bounds river; 0 otherwise)\n",
            "        - NOX      nitric oxides concentration (parts per 10 million)\n",
            "        - RM       average number of rooms per dwelling\n",
            "        - AGE      proportion of owner-occupied units built prior to 1940\n",
            "        - DIS      weighted distances to five Boston employment centres\n",
            "        - RAD      index of accessibility to radial highways\n",
            "        - TAX      full-value property-tax rate per $10,000\n",
            "        - PTRATIO  pupil-teacher ratio by town\n",
            "        - B        1000(Bk - 0.63)^2 where Bk is the proportion of black people by town\n",
            "        - LSTAT    % lower status of the population\n",
            "        - MEDV     Median value of owner-occupied homes in $1000's\n",
            "\n",
            "    :Missing Attribute Values: None\n",
            "\n",
            "    :Creator: Harrison, D. and Rubinfeld, D.L.\n",
            "\n",
            "This is a copy of UCI ML housing dataset.\n",
            "https://archive.ics.uci.edu/ml/machine-learning-databases/housing/\n",
            "\n",
            "\n",
            "This dataset was taken from the StatLib library which is maintained at Carnegie Mellon University.\n",
            "\n",
            "The Boston house-price data of Harrison, D. and Rubinfeld, D.L. 'Hedonic\n",
            "prices and the demand for clean air', J. Environ. Economics & Management,\n",
            "vol.5, 81-102, 1978.   Used in Belsley, Kuh & Welsch, 'Regression diagnostics\n",
            "...', Wiley, 1980.   N.B. Various transformations are used in the table on\n",
            "pages 244-261 of the latter.\n",
            "\n",
            "The Boston house-price data has been used in many machine learning papers that address regression\n",
            "problems.   \n",
            "     \n",
            ".. topic:: References\n",
            "\n",
            "   - Belsley, Kuh & Welsch, 'Regression diagnostics: Identifying Influential Data and Sources of Collinearity', Wiley, 1980. 244-261.\n",
            "   - Quinlan,R. (1993). Combining Instance-Based and Model-Based Learning. In Proceedings on the Tenth International Conference of Machine Learning, 236-243, University of Massachusetts, Amherst. Morgan Kaufmann.\n",
            "\n"
          ]
        }
      ]
    },
    {
      "cell_type": "code",
      "metadata": {
        "id": "ZeAdTFcd99s2"
      },
      "source": [
        "X, y = data['data'], data['target']"
      ],
      "execution_count": null,
      "outputs": []
    },
    {
      "cell_type": "code",
      "metadata": {
        "id": "D99aucKZTl9l",
        "outputId": "90fa505c-1621-4d74-ea0c-f5b23cced229",
        "colab": {
          "base_uri": "https://localhost:8080/"
        }
      },
      "source": [
        "print(\"Размер матрицы объектов: \", X.shape)\n",
        "print(\"Рaзмер вектора y: \", y.shape)"
      ],
      "execution_count": null,
      "outputs": [
        {
          "output_type": "stream",
          "name": "stdout",
          "text": [
            "Размер матрицы объектов:  (506, 13)\n",
            "Рaзмер вектора y:  (506,)\n"
          ]
        }
      ]
    },
    {
      "cell_type": "markdown",
      "metadata": {
        "id": "oQmDZ97ClMfd"
      },
      "source": [
        "Посмотрим на наши данные. Давайте построим  график того, как зависит цена от криминогенной обстановки. Для этого воспользуемся библиотекой matplotlib."
      ]
    },
    {
      "cell_type": "code",
      "metadata": {
        "id": "2k9R9aAdlLmQ"
      },
      "source": [
        "from matplotlib import pyplot as plt"
      ],
      "execution_count": null,
      "outputs": []
    },
    {
      "cell_type": "code",
      "metadata": {
        "id": "M6om5C9Rlfiq",
        "outputId": "a9e74570-0cfb-4f23-858f-27bfbf7f0eb1",
        "colab": {
          "base_uri": "https://localhost:8080/",
          "height": 296
        }
      },
      "source": [
        "plt.scatter(X[:, 0], y)\n",
        "plt.xlabel('Crime rate')\n",
        "plt.ylabel('Price')"
      ],
      "execution_count": null,
      "outputs": [
        {
          "output_type": "execute_result",
          "data": {
            "text/plain": [
              "Text(0, 0.5, 'Price')"
            ]
          },
          "metadata": {},
          "execution_count": 8
        },
        {
          "output_type": "display_data",
          "data": {
            "text/plain": [
              "<Figure size 432x288 with 1 Axes>"
            ],
            "image/png": "[encoded data removed]"
          },
          "metadata": {
            "needs_background": "light"
          }
        }
      ]
    },
    {
      "cell_type": "markdown",
      "metadata": {
        "id": "7Kov6hgVl7Za"
      },
      "source": [
        "Как мы видим, все закономерно, дорогие квартиры находятся в районах с низким уровнем преступности."
      ]
    },
    {
      "cell_type": "code",
      "metadata": {
        "id": "OCyzTCzC-RPX"
      },
      "source": [
        "from sklearn.model_selection import train_test_split"
      ],
      "execution_count": null,
      "outputs": []
    },
    {
      "cell_type": "markdown",
      "metadata": {
        "id": "cgsrEl4AWf-H"
      },
      "source": [
        "С помощью функции `train_test_split` разобьем выборку на `train` и `test`."
      ]
    },
    {
      "cell_type": "code",
      "metadata": {
        "id": "fmyIUVKa-Wn5"
      },
      "source": [
        "X_train, X_test, y_train, y_test = train_test_split(X, y, test_size=0.2)"
      ],
      "execution_count": null,
      "outputs": []
    },
    {
      "cell_type": "code",
      "metadata": {
        "id": "B0-pFImWNpVX"
      },
      "source": [
        "from sklearn.neighbors import KNeighborsRegressor\n",
        "# from sklearn.linear_model"
      ],
      "execution_count": null,
      "outputs": []
    },
    {
      "cell_type": "markdown",
      "metadata": {
        "id": "sQ1uFgktcw7m"
      },
      "source": [
        "В sklearn, разные методы лежат в разных модулях. Например в linear_model находятся линейные модели, в neighbors - методы основанные на ближайших соседях."
      ]
    },
    {
      "cell_type": "markdown",
      "metadata": {
        "id": "eQ7y2N9EWwF7"
      },
      "source": [
        "Импортируем алгоритм knn из sklearn. Работа с алгоритмами машинного обучения в библиотеке состоит из трех этапов.\n",
        "\n",
        "\n",
        "\n",
        "1.   Создание объекта, который будет реализовывать алгоритм.\n",
        "2.   Вызов `fit`: обучение модели на тренировочной подвыборке\n",
        "3.   Вызов `predict`: получение предсказаний на тестовой выборке\n",
        "\n"
      ]
    },
    {
      "cell_type": "code",
      "metadata": {
        "id": "xdXI0BlZ-MaH"
      },
      "source": [
        "knn = KNeighborsRegressor(n_neighbors=5, weights='uniform', p=2)"
      ],
      "execution_count": null,
      "outputs": []
    },
    {
      "cell_type": "code",
      "metadata": {
        "id": "2vJhFTPM-_hw",
        "outputId": "82bb6caa-8957-41af-f042-0d6084214e61",
        "colab": {
          "base_uri": "https://localhost:8080/"
        }
      },
      "source": [
        "knn.fit(X_train, y_train)"
      ],
      "execution_count": null,
      "outputs": [
        {
          "output_type": "execute_result",
          "data": {
            "text/plain": [
              "KNeighborsRegressor()"
            ]
          },
          "metadata": {},
          "execution_count": 13
        }
      ]
    },
    {
      "cell_type": "code",
      "source": [
        "knn.predict(X_test)"
      ],
      "metadata": {
        "colab": {
          "base_uri": "https://localhost:8080/"
        },
        "id": "gBlzToH7_v6Z",
        "outputId": "b1ff603f-14c9-4eb7-b89a-7f8e68bbc91d"
      },
      "execution_count": null,
      "outputs": [
        {
          "output_type": "execute_result",
          "data": {
            "text/plain": [
              "array([16.4 , 32.52, 21.38, 21.  , 20.5 , 22.14, 21.16, 37.56, 21.16,\n",
              "       18.86, 20.18, 30.34, 12.66, 24.1 , 19.74, 42.92, 15.56, 15.06,\n",
              "        9.48, 27.42, 22.14, 16.78, 21.2 , 23.68, 15.4 , 16.66, 21.36,\n",
              "       32.6 , 14.16, 23.9 , 21.66, 23.68, 20.26, 25.9 , 20.  , 16.98,\n",
              "       27.36, 41.16, 27.62, 31.48, 14.84, 34.12, 24.7 , 16.98, 24.  ,\n",
              "       17.82, 24.7 , 16.74, 21.5 , 25.38, 32.54, 27.34, 20.7 ,  9.48,\n",
              "       21.84, 24.78, 17.8 , 18.16, 28.6 , 17.92, 17.82, 25.58, 22.96,\n",
              "       16.28,  9.88, 31.98, 19.68, 14.2 , 21.1 , 31.14, 26.22, 23.18,\n",
              "       24.36, 29.02, 20.62, 21.14, 20.44, 30.34, 24.78, 41.28, 23.38,\n",
              "       29.22, 21.26, 15.44, 24.68, 20.1 , 37.78, 24.66, 23.68, 27.26,\n",
              "       11.9 , 19.46, 36.16, 22.4 , 28.38, 21.76, 20.1 , 22.14, 33.06,\n",
              "       22.66, 20.58, 22.2 ])"
            ]
          },
          "metadata": {},
          "execution_count": 14
        }
      ]
    },
    {
      "cell_type": "code",
      "metadata": {
        "id": "0F-71xehNKQm"
      },
      "source": [
        "predictions = knn.predict(X_test)"
      ],
      "execution_count": null,
      "outputs": []
    },
    {
      "cell_type": "markdown",
      "metadata": {
        "id": "QEqvxycJYncL"
      },
      "source": [
        "Отлично! Мы получили предсказания. Посчитаем метрику, соответствующая функция есть в scikit-learn! Будет считать средне квадратичную ошибку, так как мы решаем задачу регрессии."
      ]
    },
    {
      "cell_type": "code",
      "metadata": {
        "id": "Ydpg9MH9NOTD"
      },
      "source": [
        "from sklearn.metrics import mean_squared_error"
      ],
      "execution_count": null,
      "outputs": []
    },
    {
      "cell_type": "code",
      "metadata": {
        "id": "qXOe6qqRNVRr",
        "outputId": "176d0f58-c0b2-4e4b-e2f2-4b75d49372ae",
        "colab": {
          "base_uri": "https://localhost:8080/"
        }
      },
      "source": [
        "mean_squared_error(y_test, predictions)"
      ],
      "execution_count": null,
      "outputs": [
        {
          "output_type": "execute_result",
          "data": {
            "text/plain": [
              "38.66401176470589"
            ]
          },
          "metadata": {},
          "execution_count": 17
        }
      ]
    },
    {
      "cell_type": "code",
      "source": [
        "X_train, X_test, y_train, y_test = train_test_split(X, y, test_size=0.2, random_state=1000000000)\n",
        "# 19 59\n",
        "knn = KNeighborsRegressor(n_neighbors=5, weights='uniform', p=2)\n",
        "knn.fit(X_train, y_train)\n",
        "mean_squared_error(y_test, knn.predict(X_test))"
      ],
      "metadata": {
        "colab": {
          "base_uri": "https://localhost:8080/"
        },
        "id": "wf1bfciWH-pa",
        "outputId": "74e9774c-0e46-4483-d6ef-40520384b2c7"
      },
      "execution_count": null,
      "outputs": [
        {
          "output_type": "execute_result",
          "data": {
            "text/plain": [
              "32.40204313725489"
            ]
          },
          "metadata": {},
          "execution_count": 18
        }
      ]
    },
    {
      "cell_type": "markdown",
      "metadata": {
        "id": "vyrD9P7gNrpl"
      },
      "source": [
        "Давайте попробуем сделать лучше! У нашего алгоритма есть множество гиперпараметров: количество соседей, параметры метрики и веса. Запустим поиск по сетке гиперараметров, алгоритм переберет все возможные комбинации, посчитает метрику для каждого набора и выдаст лучший набор."
      ]
    },
    {
      "cell_type": "code",
      "metadata": {
        "id": "IFJ33oeANw8Y"
      },
      "source": [
        "from sklearn.model_selection import GridSearchCV"
      ],
      "execution_count": null,
      "outputs": []
    },
    {
      "cell_type": "code",
      "metadata": {
        "id": "BrjPz9oFOIGQ"
      },
      "source": [
        "grid_searcher = GridSearchCV(KNeighborsRegressor(),\n",
        "                             param_grid={\n",
        "                                        # 'n_neighbors': range(1, 40, 2),\n",
        "                                        'n_neighbors': [1, 5, 10, 20],\n",
        "                                         'weights': ['uniform', 'distance'],\n",
        "                                         'p': [1, 2, 3]},\n",
        "                             cv=5)"
      ],
      "execution_count": null,
      "outputs": []
    },
    {
      "cell_type": "markdown",
      "metadata": {
        "id": "4e9XpFCdeeMe"
      },
      "source": [
        "Параметр cv=5 говорит, что во время поиска оптимальных парамертов будет использоваться кросс-валидация с 5 фолдами. Давайте вспомним, что это такое: \n",
        "\n",
        "![alt text](https://miro.medium.com/max/700/1*rgba1BIOUys7wQcXcL4U5A.png)\n",
        "https://towardsdatascience.com/cross-validation-explained-evaluating-estimator-performance-e51e5430ff85\n",
        "\n",
        "В нашем случае, выборка будет разделена на 5 частей и на каждой из 5 итераций, часть данных будет становиться тестовой выборкой, а другая часть - обучающей. Посчитав метрики на каждой итерации, мы сможем усреднить их в конце и получить достаточно точную оценку качества нашего алгоритма."
      ]
    },
    {
      "cell_type": "code",
      "metadata": {
        "id": "ASqSEMsCPBD0"
      },
      "source": [
        "grid_searcher.fit(X_train, y_train)"
      ],
      "execution_count": null,
      "outputs": []
    },
    {
      "cell_type": "code",
      "source": [
        "grid_searcher.best_params_"
      ],
      "metadata": {
        "colab": {
          "base_uri": "https://localhost:8080/"
        },
        "id": "d2hvz14ZBU0E",
        "outputId": "ebd6327a-7f4b-4e65-b9c4-61a5a3b8041b"
      },
      "execution_count": null,
      "outputs": [
        {
          "output_type": "execute_result",
          "data": {
            "text/plain": [
              "{'n_neighbors': 5, 'p': 1, 'weights': 'distance'}"
            ]
          },
          "metadata": {},
          "execution_count": 22
        }
      ]
    },
    {
      "cell_type": "markdown",
      "metadata": {
        "id": "mWdAzpvXayNe"
      },
      "source": [
        "Попросим предсказание лучшей модели."
      ]
    },
    {
      "cell_type": "code",
      "metadata": {
        "id": "fQyWWnrSONPo"
      },
      "source": [
        "best_predictions = grid_searcher.predict(X_test)\n",
        "# best_predictions"
      ],
      "execution_count": null,
      "outputs": []
    },
    {
      "cell_type": "code",
      "metadata": {
        "id": "nDV8_O3zPbN-",
        "outputId": "9d10801f-ddbe-49c4-dbea-55fe19c0bcd5",
        "colab": {
          "base_uri": "https://localhost:8080/"
        }
      },
      "source": [
        "mean_squared_error(y_test, best_predictions)"
      ],
      "execution_count": null,
      "outputs": [
        {
          "output_type": "execute_result",
          "data": {
            "text/plain": [
              "25.154307270351957"
            ]
          },
          "metadata": {},
          "execution_count": 24
        }
      ]
    },
    {
      "cell_type": "markdown",
      "metadata": {
        "id": "Pnvwj0dBbFEm"
      },
      "source": [
        "Давайте посмотрим на качество алгоритма в зависимости от количества соседей. Качество будем оценивать на обучающей выборке \n"
      ]
    },
    {
      "cell_type": "code",
      "source": [
        "metrics = []\n",
        "for n in range(1, 30, 3):\n",
        "  knn = KNeighborsRegressor(n_neighbors=n)\n",
        "  knn.fit(X_train, y_train)\n",
        "  metrics.append(mean_squared_error(y_test, knn.predict(X_test)))"
      ],
      "metadata": {
        "id": "S6FTTVKNCJr_"
      },
      "execution_count": null,
      "outputs": []
    },
    {
      "cell_type": "code",
      "source": [
        "plt.plot(range(1, 30, 3), metrics)\n",
        "plt.ylabel('mean squared error')\n",
        "plt.xlabel('Number of neightbors')"
      ],
      "metadata": {
        "colab": {
          "base_uri": "https://localhost:8080/",
          "height": 296
        },
        "id": "h8ExTOUTC85h",
        "outputId": "3e4e64cb-9eaf-4d25-919d-f440b58b30cc"
      },
      "execution_count": null,
      "outputs": [
        {
          "output_type": "execute_result",
          "data": {
            "text/plain": [
              "Text(0.5, 0, 'Number of neightbors')"
            ]
          },
          "metadata": {},
          "execution_count": 26
        },
        {
          "output_type": "display_data",
          "data": {
            "text/plain": [
              "<Figure size 432x288 with 1 Axes>"
            ],
            "image/png": "[encoded data removed]"
          },
          "metadata": {
            "needs_background": "light"
          }
        }
      ]
    },
    {
      "cell_type": "code",
      "metadata": {
        "id": "s0cl2zDgcJiM"
      },
      "source": [
        "from sklearn.model_selection import cross_val_score\n",
        "import numpy as np"
      ],
      "execution_count": null,
      "outputs": []
    },
    {
      "cell_type": "code",
      "metadata": {
        "id": "d3mbvV2VOOxF"
      },
      "source": [
        "metrics = []\n",
        "for n in range(1, 40, 2):\n",
        "  knn = KNeighborsRegressor(n_neighbors=n)\n",
        "  scores = cross_val_score(knn, X_train, y_train, cv=5, scoring='neg_mean_squared_error')\n",
        "  metrics.append(np.mean(scores))"
      ],
      "execution_count": null,
      "outputs": []
    },
    {
      "cell_type": "code",
      "metadata": {
        "id": "0-TiIAiPcrhw"
      },
      "source": [
        "from matplotlib import pyplot as plt"
      ],
      "execution_count": null,
      "outputs": []
    },
    {
      "cell_type": "code",
      "metadata": {
        "id": "8_k7CZsPcvHa",
        "outputId": "57ca5e08-bcdb-4876-b688-21a52feb3268",
        "colab": {
          "base_uri": "https://localhost:8080/",
          "height": 296
        }
      },
      "source": [
        "plt.plot(range(1, 40, 2), metrics)\n",
        "plt.ylabel('Negative mean squared error')\n",
        "plt.xlabel('Number of neightbors')"
      ],
      "execution_count": null,
      "outputs": [
        {
          "output_type": "execute_result",
          "data": {
            "text/plain": [
              "Text(0.5, 0, 'Number of neightbors')"
            ]
          },
          "metadata": {},
          "execution_count": 30
        },
        {
          "output_type": "display_data",
          "data": {
            "text/plain": [
              "<Figure size 432x288 with 1 Axes>"
            ],
            "image/png": "[encoded data removed]"
          },
          "metadata": {
            "needs_background": "light"
          }
        }
      ]
    },
    {
      "cell_type": "markdown",
      "source": [
        "# Классификация"
      ],
      "metadata": {
        "id": "l6fpUvX6up6n"
      }
    },
    {
      "cell_type": "markdown",
      "source": [
        "## На занятии."
      ],
      "metadata": {
        "id": "1ytou0xJutds"
      }
    },
    {
      "cell_type": "markdown",
      "metadata": {
        "id": "zLZbcalhdhuP"
      },
      "source": [
        "Помимо готовых датасетов, в библиотеке sklearn можно найти функции для генерации искусственных данных. Давайте сгенерируем датасет для классификации и визуализируем его."
      ]
    },
    {
      "cell_type": "code",
      "metadata": {
        "id": "f8IFS3Vrj6iG"
      },
      "source": [
        "from sklearn.datasets import make_moons\n",
        "X, y = make_moons(n_samples=200, noise=0.2)"
      ],
      "execution_count": null,
      "outputs": []
    },
    {
      "cell_type": "code",
      "source": [
        "X_simple, y_simple = make_moons()\n",
        "plt.scatter(X_simple[:, 0], X_simple[:, 1], c=y_simple)"
      ],
      "metadata": {
        "colab": {
          "base_uri": "https://localhost:8080/",
          "height": 282
        },
        "id": "_sArDDc9k0bf",
        "outputId": "58a8366c-5a03-41e8-a35c-adbce8119314"
      },
      "execution_count": null,
      "outputs": [
        {
          "output_type": "execute_result",
          "data": {
            "text/plain": [
              "<matplotlib.collections.PathCollection at 0x7fe0efe6fed0>"
            ]
          },
          "metadata": {},
          "execution_count": 39
        },
        {
          "output_type": "display_data",
          "data": {
            "text/plain": [
              "<Figure size 432x288 with 1 Axes>"
            ],
            "image/png": "[encoded data removed]"
          },
          "metadata": {
            "needs_background": "light"
          }
        }
      ]
    },
    {
      "cell_type": "code",
      "metadata": {
        "id": "FS5bpbacfrpN",
        "outputId": "b8f92c57-bb03-4c3b-e601-aa141a631fe3",
        "colab": {
          "base_uri": "https://localhost:8080/",
          "height": 282
        }
      },
      "source": [
        "plt.scatter(X[:, 0], X[:, 1], c=y)"
      ],
      "execution_count": null,
      "outputs": [
        {
          "output_type": "execute_result",
          "data": {
            "text/plain": [
              "<matplotlib.collections.PathCollection at 0x7fe0efd03490>"
            ]
          },
          "metadata": {},
          "execution_count": 43
        },
        {
          "output_type": "display_data",
          "data": {
            "text/plain": [
              "<Figure size 432x288 with 1 Axes>"
            ],
            "image/png": "[encoded data removed]"
          },
          "metadata": {
            "needs_background": "light"
          }
        }
      ]
    },
    {
      "cell_type": "markdown",
      "metadata": {
        "id": "zDkLmUiFf7Cp"
      },
      "source": [
        "Мы получили два слегка зашумленных месяца. Давайте обучим knn на этих данных и визуализируем пространство предсказаний.\n",
        "\n"
      ]
    },
    {
      "cell_type": "code",
      "metadata": {
        "id": "4lEgDR5Jf1HU",
        "outputId": "a82498dc-7fd0-4dac-e695-adf426f99b70",
        "colab": {
          "base_uri": "https://localhost:8080/"
        }
      },
      "source": [
        "from sklearn.neighbors import KNeighborsClassifier\n",
        "knn_clf = KNeighborsClassifier(n_neighbors=5)\n",
        "\n",
        "X_train, X_test, y_train, y_test = train_test_split(X, y, test_size=0.2)\n",
        "\n",
        "X_train.shape\n",
        "# X_test.shape\n",
        "y_train.shape"
      ],
      "execution_count": null,
      "outputs": [
        {
          "output_type": "execute_result",
          "data": {
            "text/plain": [
              "(160,)"
            ]
          },
          "metadata": {},
          "execution_count": 48
        }
      ]
    },
    {
      "cell_type": "code",
      "source": [
        "knn_clf.fit(X_train, y_train)"
      ],
      "metadata": {
        "colab": {
          "base_uri": "https://localhost:8080/"
        },
        "id": "c_IZY8tMly6K",
        "outputId": "3109953d-1bc6-46de-d66b-b46f3ea8053b"
      },
      "execution_count": null,
      "outputs": [
        {
          "output_type": "execute_result",
          "data": {
            "text/plain": [
              "KNeighborsClassifier()"
            ]
          },
          "metadata": {},
          "execution_count": 49
        }
      ]
    },
    {
      "cell_type": "code",
      "source": [
        "knn_clf.predict(X_test)"
      ],
      "metadata": {
        "colab": {
          "base_uri": "https://localhost:8080/"
        },
        "id": "NWR5efSIm4O6",
        "outputId": "9ff56f74-8813-4545-b70c-dec269a2093b"
      },
      "execution_count": null,
      "outputs": [
        {
          "output_type": "execute_result",
          "data": {
            "text/plain": [
              "array([0, 0, 0, 0, 0, 0, 0, 0, 0, 1, 1, 0, 1, 0, 0, 0, 1, 0, 1, 0, 1, 0,\n",
              "       1, 1, 1, 0, 0, 1, 1, 1, 0, 0, 1, 0, 1, 0, 0, 0, 0, 1])"
            ]
          },
          "metadata": {},
          "execution_count": 51
        }
      ]
    },
    {
      "cell_type": "code",
      "source": [
        "from sklearn.metrics import accuracy_score"
      ],
      "metadata": {
        "id": "1nHA6TjinRuC"
      },
      "execution_count": null,
      "outputs": []
    },
    {
      "cell_type": "code",
      "source": [
        "accuracy_score(y_test, knn_clf.predict(X_test))"
      ],
      "metadata": {
        "colab": {
          "base_uri": "https://localhost:8080/"
        },
        "id": "2CpUEuceqVwJ",
        "outputId": "0137d76b-2eda-43ac-ebc2-0f3f4efe990e"
      },
      "execution_count": null,
      "outputs": [
        {
          "output_type": "execute_result",
          "data": {
            "text/plain": [
              "0.925"
            ]
          },
          "metadata": {},
          "execution_count": 53
        }
      ]
    },
    {
      "cell_type": "markdown",
      "metadata": {
        "id": "PIy8T972g4Tl"
      },
      "source": [
        "Для визуализации построим массив, который будет содержать в себе все точки в окрестности данных с некоторым шагом."
      ]
    },
    {
      "cell_type": "code",
      "source": [
        "# np.linspace\n",
        "# (начало массива, конец массива и количество точек)\n",
        "# возвращается массив от начала до конца с каким-то шагом."
      ],
      "metadata": {
        "id": "fv660W9sq6gf"
      },
      "execution_count": null,
      "outputs": []
    },
    {
      "cell_type": "code",
      "source": [
        "x_space = np.linspace(-2, 3, 100)"
      ],
      "metadata": {
        "id": "S26x3o2-rGoA"
      },
      "execution_count": null,
      "outputs": []
    },
    {
      "cell_type": "code",
      "source": [
        "# np.meshgrid()\n",
        "# принимает набор аргументов и возвращает\n",
        "# матрицы, которые как раз и будут соответствовать\n",
        "# каждой точке нашего вот этого прямоугольника, пространство, где мы хотим делать предсказания."
      ],
      "metadata": {
        "id": "JI-mn_KErd-W"
      },
      "execution_count": null,
      "outputs": []
    },
    {
      "cell_type": "code",
      "source": [
        "x_grid, y_grid = np.meshgrid(x_space, x_space)"
      ],
      "metadata": {
        "id": "4Mzf2y-hroNl"
      },
      "execution_count": null,
      "outputs": []
    },
    {
      "cell_type": "code",
      "source": [
        "x_grid"
      ],
      "metadata": {
        "colab": {
          "base_uri": "https://localhost:8080/"
        },
        "id": "tVzN5qJCr9Qt",
        "outputId": "aea3847f-de5a-414d-9f74-ac8355f3ca4c"
      },
      "execution_count": null,
      "outputs": [
        {
          "output_type": "execute_result",
          "data": {
            "text/plain": [
              "array([[-2.        , -1.94949495, -1.8989899 , ...,  2.8989899 ,\n",
              "         2.94949495,  3.        ],\n",
              "       [-2.        , -1.94949495, -1.8989899 , ...,  2.8989899 ,\n",
              "         2.94949495,  3.        ],\n",
              "       [-2.        , -1.94949495, -1.8989899 , ...,  2.8989899 ,\n",
              "         2.94949495,  3.        ],\n",
              "       ...,\n",
              "       [-2.        , -1.94949495, -1.8989899 , ...,  2.8989899 ,\n",
              "         2.94949495,  3.        ],\n",
              "       [-2.        , -1.94949495, -1.8989899 , ...,  2.8989899 ,\n",
              "         2.94949495,  3.        ],\n",
              "       [-2.        , -1.94949495, -1.8989899 , ...,  2.8989899 ,\n",
              "         2.94949495,  3.        ]])"
            ]
          },
          "metadata": {},
          "execution_count": 81
        }
      ]
    },
    {
      "cell_type": "code",
      "source": [
        "y_grid"
      ],
      "metadata": {
        "colab": {
          "base_uri": "https://localhost:8080/"
        },
        "id": "lRaBvGXssHv-",
        "outputId": "80e03db1-5ea2-43a5-df73-91cedc927bec"
      },
      "execution_count": null,
      "outputs": [
        {
          "output_type": "execute_result",
          "data": {
            "text/plain": [
              "array([[-2.        , -2.        , -2.        , ..., -2.        ,\n",
              "        -2.        , -2.        ],\n",
              "       [-1.9798995 , -1.9798995 , -1.9798995 , ..., -1.9798995 ,\n",
              "        -1.9798995 , -1.9798995 ],\n",
              "       [-1.95979899, -1.95979899, -1.95979899, ..., -1.95979899,\n",
              "        -1.95979899, -1.95979899],\n",
              "       ...,\n",
              "       [ 1.95979899,  1.95979899,  1.95979899, ...,  1.95979899,\n",
              "         1.95979899,  1.95979899],\n",
              "       [ 1.9798995 ,  1.9798995 ,  1.9798995 , ...,  1.9798995 ,\n",
              "         1.9798995 ,  1.9798995 ],\n",
              "       [ 2.        ,  2.        ,  2.        , ...,  2.        ,\n",
              "         2.        ,  2.        ]])"
            ]
          },
          "metadata": {},
          "execution_count": 75
        }
      ]
    },
    {
      "cell_type": "markdown",
      "source": [
        "в массиве x_grid. Мы видим, что там лежит копия\n",
        "одного и того же массива, просто от -2 до 2, то есть по сути мы\n",
        "получили координаты каждой точки вдоль оси x.\n",
        "Если мы посмотрим на y_grid, мы увидим, что там тоже копия одного и того же массива,\n",
        "просто теперь вдоль оси y. Если эти два массива объединю и превращу каждый элемент этого\n",
        "в точку, то я получу то, что мне нужно."
      ],
      "metadata": {
        "id": "jj-tjHHVsFuO"
      }
    },
    {
      "cell_type": "code",
      "source": [
        "xy = np.stack([x_grid, y_grid], axis=2).reshape(-1, 2)\n",
        "xy"
      ],
      "metadata": {
        "colab": {
          "base_uri": "https://localhost:8080/"
        },
        "id": "9AZcTY4isT51",
        "outputId": "ad4f0914-67b7-413e-baf8-21555463a127"
      },
      "execution_count": null,
      "outputs": [
        {
          "output_type": "execute_result",
          "data": {
            "text/plain": [
              "array([[-2.        , -2.        ],\n",
              "       [-1.94949495, -2.        ],\n",
              "       [-1.8989899 , -2.        ],\n",
              "       ...,\n",
              "       [ 2.8989899 ,  3.        ],\n",
              "       [ 2.94949495,  3.        ],\n",
              "       [ 3.        ,  3.        ]])"
            ]
          },
          "metadata": {},
          "execution_count": 82
        }
      ]
    },
    {
      "cell_type": "code",
      "source": [
        "plt.scatter(xy[:, 0], xy[:, 1], c=knn_clf.predict(xy), alpha=0.2, s=1) #s - это сайз - размер точки. alpha=0.2 - сделали прозрачными точки.\n",
        "plt.scatter(X_train[:, 0], X_train[:, 1], c=y_train)"
      ],
      "metadata": {
        "colab": {
          "base_uri": "https://localhost:8080/",
          "height": 282
        },
        "id": "icOnw72Nsi28",
        "outputId": "fb80d8e5-ad30-4daf-bb29-14d8f11b8737"
      },
      "execution_count": null,
      "outputs": [
        {
          "output_type": "execute_result",
          "data": {
            "text/plain": [
              "<matplotlib.collections.PathCollection at 0x7fe0e61844d0>"
            ]
          },
          "metadata": {},
          "execution_count": 83
        },
        {
          "output_type": "display_data",
          "data": {
            "text/plain": [
              "<Figure size 432x288 with 1 Axes>"
            ],
            "image/png": "[encoded data removed]"
          },
          "metadata": {
            "needs_background": "light"
          }
        }
      ]
    },
    {
      "cell_type": "markdown",
      "source": [
        "Несмотря на шум, который здесь возникает, мы все равно\n",
        "смогли правильно и хорошо решить задачу. Вот если мы уменьшим количество соседей,\n",
        "то, что произойдет. Вот эти шумовые клетки, они станут влиять на нашу кривую более сильно.\n",
        "Соответственно, здесь появятся регионы, где мы предсказываем желтый цвет,\n",
        "если мы проделаем обратную вещь и увеличим количество соседей, то наша\n",
        "кривая будет зарубляться и в итоге превратится просто в прямую."
      ],
      "metadata": {
        "id": "SlOZ2GiatkW9"
      }
    },
    {
      "cell_type": "markdown",
      "source": [
        "## Изначальный ноут."
      ],
      "metadata": {
        "id": "2win_HAIruZg"
      }
    },
    {
      "cell_type": "markdown",
      "source": [
        "Помимо готовых датасетов, в библиотеке sklearn можно найти функции для генерации искусственных данных. Давайте сгенерируем датасет для классификации и визуализируем его."
      ],
      "metadata": {
        "id": "2QMivLJTvC9z"
      }
    },
    {
      "cell_type": "code",
      "source": [
        "from sklearn.datasets import make_moons\n",
        "X, y = make_moons(n_samples=200, noise=0.2)"
      ],
      "metadata": {
        "id": "pa9wx-2Ru91U"
      },
      "execution_count": null,
      "outputs": []
    },
    {
      "cell_type": "code",
      "source": [
        "plt.scatter(X[:, 0], X[:, 1], c=y)"
      ],
      "metadata": {
        "id": "tIYiLcnuvFPT"
      },
      "execution_count": null,
      "outputs": []
    },
    {
      "cell_type": "markdown",
      "source": [
        "Мы получили два слегка зашумленных месяца. Давайте обучим knn на этих данных и визуализируем пространство предсказаний."
      ],
      "metadata": {
        "id": "OXD-Tl4wvHuE"
      }
    },
    {
      "cell_type": "code",
      "source": [
        "from sklearn.neighbors import KNeighborsClassifier\n",
        "knn_clf = KNeighborsClassifier(n_neighbors=5)\n",
        "\n",
        "knn_clf.fit(X, y)"
      ],
      "metadata": {
        "id": "uNKcrau6vJob"
      },
      "execution_count": null,
      "outputs": []
    },
    {
      "cell_type": "markdown",
      "source": [
        "Для визуализации построим массив, который будет содержать в себе все точки в окрестности данных с некоторым шагом."
      ],
      "metadata": {
        "id": "E1saH0uGvMGj"
      }
    },
    {
      "cell_type": "code",
      "source": [
        "x_grid, y_grid = np.meshgrid(np.linspace(-2.0, 3.0, 100), np.linspace(-2.0, 2.0, 100))\n",
        "xy = np.stack([x_grid, y_grid], axis=2).reshape(-1, 2)\n",
        "xy"
      ],
      "metadata": {
        "id": "7ckVFgO5vOet"
      },
      "execution_count": null,
      "outputs": []
    },
    {
      "cell_type": "code",
      "source": [
        "predicted = knn_clf.predict(xy)"
      ],
      "metadata": {
        "id": "DhSRSGi7vRg8"
      },
      "execution_count": null,
      "outputs": []
    },
    {
      "cell_type": "code",
      "source": [
        "plt.scatter(xy[:, 0], xy[:, 1], c=predicted, alpha=0.2, s=1)\n",
        "plt.scatter(X[:, 0], X[:, 1], c=y)"
      ],
      "metadata": {
        "id": "ZVn_MrKOvTTr"
      },
      "execution_count": null,
      "outputs": []
    },
    {
      "cell_type": "markdown",
      "source": [
        "На картинке вы можете увидеть исходные данные и границу, которую knn возвел между классами. Поэксперементируйте с параметром n_neighbors и посмотрите, как он влияет на итоговый результат."
      ],
      "metadata": {
        "id": "ro4ElaSxvVRL"
      }
    }
  ]
}