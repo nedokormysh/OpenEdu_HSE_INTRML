{
  "nbformat": 4,
  "nbformat_minor": 0,
  "metadata": {
    "colab": {
      "name": "Text.ipynb",
      "provenance": [],
      "collapsed_sections": [],
      "include_colab_link": true
    },
    "kernelspec": {
      "name": "python3",
      "display_name": "Python 3"
    }
  },
  "cells": [
    {
      "cell_type": "markdown",
      "metadata": {
        "id": "view-in-github",
        "colab_type": "text"
      },
      "source": [
        "<a href=\"https://colab.research.google.com/github/nedokormysh/OpenEdu_HSE_INTRML/blob/week6/Text.ipynb\" target=\"_parent\"><img src=\"https://colab.research.google.com/assets/colab-badge.svg\" alt=\"Open In Colab\"/></a>"
      ]
    },
    {
      "cell_type": "code",
      "metadata": {
        "id": "8jSVwwV0ZSib"
      },
      "source": [
        "import warnings\n",
        "warnings.filterwarnings(\"ignore\", category=FutureWarning)\n",
        "warnings.filterwarnings(\"ignore\")"
      ],
      "execution_count": 1,
      "outputs": []
    },
    {
      "cell_type": "markdown",
      "metadata": {
        "id": "EyOBT_yuOPbt"
      },
      "source": [
        "## 20Newsgroups"
      ]
    },
    {
      "cell_type": "code",
      "metadata": {
        "id": "0pXEYBa1irKy"
      },
      "source": [
        "from sklearn.datasets import fetch_20newsgroups"
      ],
      "execution_count": 2,
      "outputs": []
    },
    {
      "cell_type": "code",
      "metadata": {
        "id": "6kPs28eIizK7"
      },
      "source": [
        "newsgroups_train = fetch_20newsgroups(subset='train')\n",
        "newsgroups_test = fetch_20newsgroups(subset='test')"
      ],
      "execution_count": 3,
      "outputs": []
    },
    {
      "cell_type": "markdown",
      "source": [
        "После того как мы загрузили обучающую и тестовую часть в newsgroups_train переменной и в newsgroups_test\n",
        "лежат словари, ключи этих словарей вы видите на экране. По ключу date лежат сами данные текстовые,\n",
        "по ключу target лежат метки классов."
      ],
      "metadata": {
        "id": "UFxmXlUQMwVv"
      }
    },
    {
      "cell_type": "code",
      "metadata": {
        "id": "-TJi0Cpvi0GB",
        "outputId": "b007cdba-2202-4922-a114-06e8ba060c25",
        "colab": {
          "base_uri": "https://localhost:8080/"
        }
      },
      "source": [
        "newsgroups_train.keys()"
      ],
      "execution_count": 4,
      "outputs": [
        {
          "output_type": "execute_result",
          "data": {
            "text/plain": [
              "dict_keys(['data', 'filenames', 'target_names', 'target', 'DESCR'])"
            ]
          },
          "metadata": {},
          "execution_count": 4
        }
      ]
    },
    {
      "cell_type": "markdown",
      "source": [
        "Посмотрим то, как выглядит новостная статья. Возьмём вот\n",
        "какую-то одну новостную статью из обучающей выборки. Видно, что это какая-то короткая статья\n",
        "текстовая на английском языке. "
      ],
      "metadata": {
        "id": "GP6gcHNPMpYi"
      }
    },
    {
      "cell_type": "code",
      "metadata": {
        "id": "3bS4nDRNi0Ju",
        "outputId": "94280e12-eb2b-4f6f-e661-d4d4cb17887a",
        "colab": {
          "base_uri": "https://localhost:8080/"
        }
      },
      "source": [
        "print (newsgroups_train.data[0])"
      ],
      "execution_count": 5,
      "outputs": [
        {
          "output_type": "stream",
          "name": "stdout",
          "text": [
            "From: lerxst@wam.umd.edu (where's my thing)\n",
            "Subject: WHAT car is this!?\n",
            "Nntp-Posting-Host: rac3.wam.umd.edu\n",
            "Organization: University of Maryland, College Park\n",
            "Lines: 15\n",
            "\n",
            " I was wondering if anyone out there could enlighten me on this car I saw\n",
            "the other day. It was a 2-door sports car, looked to be from the late 60s/\n",
            "early 70s. It was called a Bricklin. The doors were really small. In addition,\n",
            "the front bumper was separate from the rest of the body. This is \n",
            "all I know. If anyone can tellme a model name, engine specs, years\n",
            "of production, where this car is made, history, or whatever info you\n",
            "have on this funky looking car, please e-mail.\n",
            "\n",
            "Thanks,\n",
            "- IL\n",
            "   ---- brought to you by your neighborhood Lerxst ----\n",
            "\n",
            "\n",
            "\n",
            "\n",
            "\n"
          ]
        }
      ]
    },
    {
      "cell_type": "markdown",
      "metadata": {
        "id": "4gyFClg2Oi3q"
      },
      "source": [
        "### 1. Предварительная обработка текста"
      ]
    },
    {
      "cell_type": "markdown",
      "source": [
        "Тексты на естественном языке могут содержать много слов, которые не\n",
        "несут никакой информации об этом тексте. Например, в русском языке к таким словам можно отнести\n",
        "предлоги, союзы, частицы, в английском языке к таким словам можно отнести артикли и обычно\n",
        "перед тем, как осуществлять классификацию текстов,такие слова удаляют из текста. Давайте удалим эти слова\n",
        "и осуществим какую-то простейшую предобработку нашего текста. Для этого напишем функцию\n",
        "preprocess_text, она будет принимать на вход список текстов. в этой функции сначала в переменную\n",
        "stop_word положим множество стоп-слов английского языка, это те слова как раз, которые\n",
        "не несут никакой информации, мы хотим их удалить. Эти слова мы получили из библиотеки nltk - это\n",
        "библиотека как раз для работы с текстами. Дальше в переменную regex сохраним регулярное выражение, и в\n",
        "переменную preprocess_text создадим пустой список в эту переменную, и в переменную preprocess_text\n",
        "будем как раскладывать передобработанные тексты. Далее пройдемся по всем текстам, приведем\n",
        "их к нижнему регистру с помощью метода lower, каждый текст применим регулярное выражение, то\n",
        "есть в этом регулярном выражении мы удалим все символы, которые не являются английскими буквами\n",
        "в верхнем или нижнем регистре. Дальше токенизируем наши тексты, то есть разобьем на слова\n",
        "и пройдемся по всем словам, и если эти слова находятся в списки стоп-слов, то удалим их, то\n",
        "есть не будем включать в результирующей список. И на выходе получим список с предобработанными\n",
        "текстами, текстами, которые будут приведены в нижний регистр, из этих текстов будут удалены все\n",
        "лишние символы, то есть останутся только символы из английского алфавита, и удалим все стоп-слова."
      ],
      "metadata": {
        "id": "bEL6er7tNQUU"
      }
    },
    {
      "cell_type": "code",
      "metadata": {
        "id": "NLzaHw-_i0su",
        "outputId": "dafa236a-64f1-458d-9b44-a5ab43b8992c",
        "colab": {
          "base_uri": "https://localhost:8080/"
        }
      },
      "source": [
        "import nltk\n",
        "nltk.download('stopwords')\n",
        "nltk.download('punkt')\n",
        "from nltk.corpus import stopwords\n",
        "from nltk.tokenize import word_tokenize\n",
        "import re\n",
        "import tqdm\n",
        "\n",
        "\n",
        "def preprocess_text(texts):\n",
        "    stop_words = set(stopwords.words('english'))\n",
        "    regex = re.compile('[^a-z A-Z]')\n",
        "    preprocess_texts = []\n",
        "    for i in  tqdm.tqdm(range(len(texts))):\n",
        "        text = texts[i].lower()\n",
        "        text = regex.sub(' ', text)\n",
        "        word_tokens = word_tokenize(text) \n",
        "        filtered_sentence = [w for w in word_tokens if not w in stop_words] \n",
        "        preprocess_texts.append( ' '.join(filtered_sentence))\n",
        "    \n",
        "    return preprocess_texts"
      ],
      "execution_count": 6,
      "outputs": [
        {
          "output_type": "stream",
          "name": "stderr",
          "text": [
            "[nltk_data] Downloading package stopwords to /root/nltk_data...\n",
            "[nltk_data]   Unzipping corpora/stopwords.zip.\n",
            "[nltk_data] Downloading package punkt to /root/nltk_data...\n",
            "[nltk_data]   Unzipping tokenizers/punkt.zip.\n"
          ]
        }
      ]
    },
    {
      "cell_type": "code",
      "metadata": {
        "id": "S-7Y15RKi0vg",
        "outputId": "778c6aba-bd11-45d8-cc6c-4b225cb34966",
        "colab": {
          "base_uri": "https://localhost:8080/"
        }
      },
      "source": [
        "newsgroups_train['preprocess_data'] = preprocess_text(newsgroups_train.data)"
      ],
      "execution_count": 7,
      "outputs": [
        {
          "output_type": "stream",
          "name": "stderr",
          "text": [
            "100%|██████████| 11314/11314 [00:15<00:00, 709.84it/s]\n"
          ]
        }
      ]
    },
    {
      "cell_type": "code",
      "metadata": {
        "id": "okehw7-zjIqK",
        "outputId": "540a87e0-3a41-458a-c221-844150b9d962",
        "colab": {
          "base_uri": "https://localhost:8080/"
        }
      },
      "source": [
        "newsgroups_test['preprocess_data'] = preprocess_text(newsgroups_test.data)"
      ],
      "execution_count": 8,
      "outputs": [
        {
          "output_type": "stream",
          "name": "stderr",
          "text": [
            "100%|██████████| 7532/7532 [00:09<00:00, 772.31it/s]\n"
          ]
        }
      ]
    },
    {
      "cell_type": "code",
      "metadata": {
        "id": "zTWtrSHAjItA",
        "outputId": "ab89a280-47a3-430c-a4f0-df075359338f",
        "colab": {
          "base_uri": "https://localhost:8080/"
        }
      },
      "source": [
        "print(newsgroups_train['preprocess_data'][0])"
      ],
      "execution_count": 9,
      "outputs": [
        {
          "output_type": "stream",
          "name": "stdout",
          "text": [
            "lerxst wam umd edu thing subject car nntp posting host rac wam umd edu organization university maryland college park lines wondering anyone could enlighten car saw day door sports car looked late early called bricklin doors really small addition front bumper separate rest body know anyone tellme model name engine specs years production car made history whatever info funky looking car please e mail thanks il brought neighborhood lerxst\n"
          ]
        }
      ]
    },
    {
      "cell_type": "markdown",
      "source": [
        "Видно, что текст полученный состоит только из английских букв, все эти буквы в нижнем\n",
        "регистре, ну и нет никаких артиклей, никаких стоп-слов. В текстах на естественном языке слова могут\n",
        "встречаться в разной форме, например, в русском языке одно и то же слово может встречаться в\n",
        "разных склонения, в единственном или в множественном числе, но при этом оно будет значить одно и то\n",
        "же, смысловая нагрузка этого слова будет одна и та же. "
      ],
      "metadata": {
        "id": "DUPEDzAYN3jj"
      }
    },
    {
      "cell_type": "markdown",
      "source": [
        "И часто чтобы упростить задачу и даже\n",
        "иногда чтобы повысить качество решения нашей задачи, тексты применяется стемминг или лемматизация.\n",
        "Стемминг - это выделение основы слова у каждого слова в тексте. Лемматизация - это приведение\n",
        "каждого слова текста к начальной форме. Давайте применим к нашим текстам стемминг. Для этого из\n",
        "библиотеки nltk импортируем стеммер, напишем функцию stemming_text, который будет принимать на\n",
        "вход список текстов, и к каждому тексту применим, к каждому слову этого текста применим стеммер.\n",
        "То есть пройдемся циклом по всем текстам, токенизируем каждый текст, разобьем его на слова и каждому\n",
        "слову применим функцию стемминга. И на выходе функции stemming_text будет возвращать список\n",
        "текстов, в котором был применен стемминг к каждому слову. И применим функцию stemming_text\n",
        "к преобработанным данным на обучающей и на тестовое части. "
      ],
      "metadata": {
        "id": "rgYDFPJQOF_Q"
      }
    },
    {
      "cell_type": "code",
      "metadata": {
        "id": "tZYKnEeYjIv1"
      },
      "source": [
        "from nltk.stem.lancaster import LancasterStemmer"
      ],
      "execution_count": 10,
      "outputs": []
    },
    {
      "cell_type": "code",
      "metadata": {
        "id": "LZCOP9HFjIyR"
      },
      "source": [
        "def stemming_texts(texts):\n",
        "  st = LancasterStemmer()\n",
        "  stem_text = []\n",
        "  for text in tqdm.tqdm(texts):\n",
        "    word_tokens = word_tokenize(text)\n",
        "    stem_text.append(' '.join([st.stem(word) for word in word_tokens]))\n",
        "  return stem_text"
      ],
      "execution_count": 11,
      "outputs": []
    },
    {
      "cell_type": "code",
      "metadata": {
        "id": "D0h_D9xujI1E",
        "outputId": "a21d5a8e-8682-44d1-e8bd-1ee640178612",
        "colab": {
          "base_uri": "https://localhost:8080/"
        }
      },
      "source": [
        "newsgroups_train['data_stemming'] = \\\n",
        "                           stemming_texts(newsgroups_train.preprocess_data)"
      ],
      "execution_count": 12,
      "outputs": [
        {
          "output_type": "stream",
          "name": "stderr",
          "text": [
            "100%|██████████| 11314/11314 [00:42<00:00, 268.43it/s]\n"
          ]
        }
      ]
    },
    {
      "cell_type": "code",
      "metadata": {
        "id": "0IgwyKC0jI3g",
        "outputId": "1d3ea298-ec08-454d-cec2-1c834c4da0f4",
        "colab": {
          "base_uri": "https://localhost:8080/"
        }
      },
      "source": [
        "newsgroups_test['data_stemming'] = \\\n",
        "                            stemming_texts(newsgroups_test.preprocess_data)"
      ],
      "execution_count": 13,
      "outputs": [
        {
          "output_type": "stream",
          "name": "stderr",
          "text": [
            "100%|██████████| 7532/7532 [00:25<00:00, 294.88it/s]\n"
          ]
        }
      ]
    },
    {
      "cell_type": "markdown",
      "source": [
        "И посмотрим, что получилось,\n",
        "посмотрим, что было до применения стемминга и после применения стемминга. "
      ],
      "metadata": {
        "id": "Ft_u0JbEOoE5"
      }
    },
    {
      "cell_type": "code",
      "metadata": {
        "id": "N0GU53hfjI6C",
        "outputId": "eedd9837-043e-41ac-dc8a-8b8c0d17b77c",
        "colab": {
          "base_uri": "https://localhost:8080/"
        }
      },
      "source": [
        "print(newsgroups_train.data_stemming[0])"
      ],
      "execution_count": 14,
      "outputs": [
        {
          "output_type": "stream",
          "name": "stdout",
          "text": [
            "lerxst wam umd edu thing subject car nntp post host rac wam umd edu org univers maryland colleg park lin wond anyon could enlight car saw day door sport car look lat ear cal bricklin door real smal addit front bump sep rest body know anyon tellm model nam engin spec year produc car mad hist whatev info funky look car pleas e mail thank il brought neighb lerxst\n"
          ]
        }
      ]
    },
    {
      "cell_type": "code",
      "metadata": {
        "id": "lPpe-b5zvmUW",
        "outputId": "afcf1cf7-2c22-4868-cb42-38f1f21de151",
        "colab": {
          "base_uri": "https://localhost:8080/"
        }
      },
      "source": [
        "print(newsgroups_train.preprocess_data[0])"
      ],
      "execution_count": 15,
      "outputs": [
        {
          "output_type": "stream",
          "name": "stdout",
          "text": [
            "lerxst wam umd edu thing subject car nntp posting host rac wam umd edu organization university maryland college park lines wondering anyone could enlighten car saw day door sports car looked late early called bricklin doors really small addition front bumper separate rest body know anyone tellme model name engine specs years production car made history whatever info funky looking car please e mail thanks il brought neighborhood lerxst\n"
          ]
        }
      ]
    },
    {
      "cell_type": "markdown",
      "source": [
        "Видно также, что все тексты\n",
        "приведены к нижнему регистру, так и осталось, ну вот, например, слово posting превратилась\n",
        "слова post, слово organization превратилась слова org. То есть в некоторых словах мы обрубили\n",
        "окончании этих слов."
      ],
      "metadata": {
        "id": "dOhmMiDVOsIT"
      }
    },
    {
      "cell_type": "markdown",
      "metadata": {
        "id": "etnaHjcgOzu6"
      },
      "source": [
        "### 2. Перевод текста в вещественное пространство признаков"
      ]
    },
    {
      "cell_type": "markdown",
      "metadata": {
        "id": "Wk1VkR5IO7oO"
      },
      "source": [
        "#### 2.1 Bag of Words (мешок слов)"
      ]
    },
    {
      "cell_type": "markdown",
      "metadata": {
        "id": "hI8oo_G1PClx"
      },
      "source": [
        "Основное предположение данного метода — порядок слов в документе не важен, \n",
        "\n",
        "а все документы представляются в виде матрицы $ T = (t)_{d,w}$,\n",
        "\n",
        "каждая строка в которой соответствует отдельному документу или тексту, \n",
        "\n",
        "а каждый столбец — определенному слову. \n",
        "\n",
        "Элемент $t_{d,w}$ соответствует количеству вхождений слова $w$ в документ $d$.\n",
        "\n",
        "\n",
        "\n",
        "\n",
        "\n"
      ]
    },
    {
      "cell_type": "markdown",
      "source": [
        "А в методе Bag of Words все тексты представляются\n",
        "в виде матрицы, размеры этой матрицы d на w, где d - это количество документов, а w - это\n",
        "количество слов, то есть каждому документу сопоставляется вектор длины, равный общему\n",
        "количеству слов в текстовой выборке. И в i-ой позиции, в i-ой строке j-ом столбце этой\n",
        "матрицы стоит число, которое равно количеству слова j в документе i."
      ],
      "metadata": {
        "id": "AkXenlQdPcyC"
      }
    },
    {
      "cell_type": "markdown",
      "source": [
        "Для того чтобы реализовать Bag of Words воспользуемся из\n",
        "библиотеки sklearn классом CountVectorizer, импортируем этот класс и создадим объект этого класса, а теперь посмотрим\n",
        "как работает CountVectorizer на простом примере."
      ],
      "metadata": {
        "id": "3iEHPdCDT48w"
      }
    },
    {
      "cell_type": "code",
      "metadata": {
        "id": "WocMYLbTv9vC"
      },
      "source": [
        "from sklearn.feature_extraction.text import CountVectorizer"
      ],
      "execution_count": 16,
      "outputs": []
    },
    {
      "cell_type": "code",
      "metadata": {
        "id": "VC_57sTEQBMa"
      },
      "source": [
        "vectorizer = CountVectorizer()"
      ],
      "execution_count": 17,
      "outputs": []
    },
    {
      "cell_type": "code",
      "metadata": {
        "id": "Aybc8qotQHh8",
        "outputId": "9c627316-d4be-4b07-db21-02bd6499ddf8",
        "colab": {
          "base_uri": "https://localhost:8080/"
        }
      },
      "source": [
        "vectorizer.fit(['порядок слов в документе не важен', 'мешок слов'])"
      ],
      "execution_count": 18,
      "outputs": [
        {
          "output_type": "execute_result",
          "data": {
            "text/plain": [
              "CountVectorizer()"
            ]
          },
          "metadata": {},
          "execution_count": 18
        }
      ]
    },
    {
      "cell_type": "markdown",
      "source": [
        "Обучим CountVectorizer на 2 документах: в одном\n",
        "первом документе будут слова, порядок слов в документе не важен, во втором документе будут\n",
        "слова, мешок слов. После того как вы обучили объект класса CountVectorizer у него есть метод\n",
        "getfeaturenames. Если вы воспользуетесь этим методом, то вы получите все слова уникальные,\n",
        "которые есть в вашей текстовой выборке. В данном случае у нас есть шесть уникальных слов:"
      ],
      "metadata": {
        "id": "oNQhZuERUP4P"
      }
    },
    {
      "cell_type": "code",
      "metadata": {
        "id": "LM1spxAeQe3q",
        "outputId": "d77ad9a2-8d8b-4c01-b6d3-e7d0a5a57966",
        "colab": {
          "base_uri": "https://localhost:8080/"
        }
      },
      "source": [
        "vectorizer.get_feature_names()"
      ],
      "execution_count": 19,
      "outputs": [
        {
          "output_type": "execute_result",
          "data": {
            "text/plain": [
              "['важен', 'документе', 'мешок', 'не', 'порядок', 'слов']"
            ]
          },
          "metadata": {},
          "execution_count": 19
        }
      ]
    },
    {
      "cell_type": "markdown",
      "source": [
        "Теперь применим метод Bag of Words к каким-то новым текстам. Применим метод Bag of Words\n",
        "к тексту \"важен порядок\" и \"не мешок не порядок\". "
      ],
      "metadata": {
        "id": "spLYYxAWX43L"
      }
    },
    {
      "cell_type": "code",
      "metadata": {
        "id": "dvG4o-1kQn3z",
        "outputId": "20fd3fa4-c13b-4549-ad56-7434605da3f1",
        "colab": {
          "base_uri": "https://localhost:8080/"
        }
      },
      "source": [
        "vectorizer.transform(['важен порядок', 'не мешок не порядок']).toarray()"
      ],
      "execution_count": 20,
      "outputs": [
        {
          "output_type": "execute_result",
          "data": {
            "text/plain": [
              "array([[1, 0, 0, 0, 1, 0],\n",
              "       [0, 0, 1, 2, 1, 0]])"
            ]
          },
          "metadata": {},
          "execution_count": 20
        }
      ]
    },
    {
      "cell_type": "markdown",
      "source": [
        "Первому документу соответствует\n",
        "вектор, в котором всего две единицы: первая единица соответствует слову \"важен\", вторая единице соответствует слова порядок вторая\n",
        "единица соответствует слову \"порядок\". Вторая строка соответствует\n",
        "второму документу, и в ней две единицы и одна двойка. Первая единица соответствует\n",
        "слову \"мешок\", вторая единица соответствует слову \"порядок\", а двойка соответствует слову \"не\",\n",
        "потому что слово не встретилось два раза."
      ],
      "metadata": {
        "id": "5B2wJc05ZwC6"
      }
    },
    {
      "cell_type": "markdown",
      "source": [
        "Теперь напишем функцию Bag of words, которая будет принимать на вход Vectorizer,\n",
        "обучающую и тестовую выборки на обучающей выборке будем применять метод\n",
        "fit.transform, у Vectorizer будем применять fit.transform и в метод fit.transform\n",
        "будем передавать обучающую выборку, а тестовую выборку будем тебе передавать в метод transform.\n",
        "И данная функция будет возвращать полученные Bag of words матрицы для обучающий\n",
        "и для тестовой части."
      ],
      "metadata": {
        "id": "w3dQe9BsaBgx"
      }
    },
    {
      "cell_type": "code",
      "metadata": {
        "id": "4fednKkjeE-_"
      },
      "source": [
        "def bow(vectorizer, train, test):\n",
        "  train_bow = vectorizer.fit_transform(train)\n",
        "  test_bow = vectorizer.transform(test)\n",
        "  return train_bow, test_bow"
      ],
      "execution_count": 21,
      "outputs": []
    },
    {
      "cell_type": "code",
      "metadata": {
        "id": "LEPL9R0jfUc-"
      },
      "source": [
        "X_train_bow, X_test_bow = bow(vectorizer, \n",
        "                              newsgroups_train.data, \n",
        "                              newsgroups_test.data)"
      ],
      "execution_count": 22,
      "outputs": []
    },
    {
      "cell_type": "markdown",
      "source": [
        "Применим функцию, написанную Bag of words, к обучающей выборке и к тестовой выборке,\n",
        "причем применим к выборкам к текстовым данным, которые не были никак предобработаны.\n",
        "Эти данные лежат по ключу data. Посмотрим на полученные размеры этих матриц.\n",
        "Видно, что полученные размеры этих матриц, полученное признаковое пространство\n",
        "в этих матрицах более 130 тысяч, ну это довольно много. "
      ],
      "metadata": {
        "id": "q6CfFpq2aYQO"
      }
    },
    {
      "cell_type": "code",
      "metadata": {
        "id": "xaETMkjcfuTv",
        "outputId": "cb83d2f1-6671-4d5d-a897-adbf30c40452",
        "colab": {
          "base_uri": "https://localhost:8080/"
        }
      },
      "source": [
        "X_train_bow.shape"
      ],
      "execution_count": 23,
      "outputs": [
        {
          "output_type": "execute_result",
          "data": {
            "text/plain": [
              "(11314, 130107)"
            ]
          },
          "metadata": {},
          "execution_count": 23
        }
      ]
    },
    {
      "cell_type": "code",
      "metadata": {
        "id": "VXwbJ1OBf1SV",
        "outputId": "dfff2d51-b290-4af4-c8e8-d6906db1aa40",
        "colab": {
          "base_uri": "https://localhost:8080/"
        }
      },
      "source": [
        "X_test_bow.shape"
      ],
      "execution_count": 24,
      "outputs": [
        {
          "output_type": "execute_result",
          "data": {
            "text/plain": [
              "(7532, 130107)"
            ]
          },
          "metadata": {},
          "execution_count": 24
        }
      ]
    },
    {
      "cell_type": "markdown",
      "source": [
        "Теперь посмотрим ,что происходит после\n",
        "предобработки данных. Применим функцию Bag of words к предобработанным данным,\n",
        "то есть тем данным, где мы все слова привели к нижнему регистру и удалили там лишние\n",
        "символы, оставили только символы из английского алфавита."
      ],
      "metadata": {
        "id": "0OWm33yrahcv"
      }
    },
    {
      "cell_type": "code",
      "metadata": {
        "id": "IEfDbzuRgDSY"
      },
      "source": [
        "X_train_bow_preprocess, X_test_bow_preprocess = bow(vectorizer, \n",
        "                                                    newsgroups_train.preprocess_data,\n",
        "                                                    newsgroups_test.preprocess_data)"
      ],
      "execution_count": 25,
      "outputs": []
    },
    {
      "cell_type": "code",
      "metadata": {
        "id": "D2BHnhodjIIs",
        "outputId": "47749aa4-b913-43a8-fc9e-f7fde4a6c8c7",
        "colab": {
          "base_uri": "https://localhost:8080/"
        }
      },
      "source": [
        "X_train_bow_preprocess.shape"
      ],
      "execution_count": 26,
      "outputs": [
        {
          "output_type": "execute_result",
          "data": {
            "text/plain": [
              "(11314, 88863)"
            ]
          },
          "metadata": {},
          "execution_count": 26
        }
      ]
    },
    {
      "cell_type": "code",
      "metadata": {
        "id": "-vxGrCfejLVX",
        "outputId": "56df8464-0312-4237-ae73-f9cc08b9cdcc",
        "colab": {
          "base_uri": "https://localhost:8080/"
        }
      },
      "source": [
        "X_test_bow_preprocess.shape"
      ],
      "execution_count": 27,
      "outputs": [
        {
          "output_type": "execute_result",
          "data": {
            "text/plain": [
              "(7532, 88863)"
            ]
          },
          "metadata": {},
          "execution_count": 27
        }
      ]
    },
    {
      "cell_type": "markdown",
      "source": [
        "давайте посмотрим, что будет происходить, когда мы применили стемминг к нашим данным.\n",
        "Признаковое пространство снизилась еще сильнее, размер признаков пространство уже чуть\n",
        "более 61 000, то есть вся эта предобработка текстов, удаление стоп-слов, стемминг, помогает\n",
        "нам снизить размер признакового пространства, и иногда даже повысить качеством работы наших\n",
        "алгоритмов. "
      ],
      "metadata": {
        "id": "uQyhlKeYa06W"
      }
    },
    {
      "cell_type": "code",
      "metadata": {
        "id": "ftID74NijN7q"
      },
      "source": [
        "X_train_bow_stem, X_test_bow_stem = bow(vectorizer, \n",
        "                                        newsgroups_train.data_stemming,\n",
        "                                        newsgroups_test.data_stemming)"
      ],
      "execution_count": 28,
      "outputs": []
    },
    {
      "cell_type": "code",
      "metadata": {
        "id": "BDErCxTPjgr1",
        "outputId": "7134e8aa-aa4a-451e-ce82-da35a468091a",
        "colab": {
          "base_uri": "https://localhost:8080/"
        }
      },
      "source": [
        "X_train_bow_stem.shape"
      ],
      "execution_count": 29,
      "outputs": [
        {
          "output_type": "execute_result",
          "data": {
            "text/plain": [
              "(11314, 61221)"
            ]
          },
          "metadata": {},
          "execution_count": 29
        }
      ]
    },
    {
      "cell_type": "code",
      "metadata": {
        "id": "xoTAihrHjlnk",
        "outputId": "bd453b32-114c-4c56-8bd0-2d2bc7801a15",
        "colab": {
          "base_uri": "https://localhost:8080/"
        }
      },
      "source": [
        "X_test_bow_stem.shape"
      ],
      "execution_count": 30,
      "outputs": [
        {
          "output_type": "execute_result",
          "data": {
            "text/plain": [
              "(7532, 61221)"
            ]
          },
          "metadata": {},
          "execution_count": 30
        }
      ]
    },
    {
      "cell_type": "markdown",
      "metadata": {
        "id": "8JvGQleCSvHS"
      },
      "source": [
        "#### 2.2 Bag of Words & TF IDF"
      ]
    },
    {
      "cell_type": "markdown",
      "source": [
        " Помимо применения метода Bag of Words можно также применять метод Bag of Words\n",
        "& TF IDF преобразование. TF IDF преобразование - это некая статистическая мера, которая равна\n",
        "мере TF умножить на меру IDF. TF - это чистота слова в документе то есть\n",
        "она вычисляется как количество раз которые встретилось слово и делить на\n",
        "общее количество слов внутри данного документа, а IDF помогает уменьшить\n",
        "вес широко употребляемых слов, и IDF вычисляется по формуле логарифм\n",
        "количества документов деленное на количество документов, в которых встретилось\n",
        "данное слово, то есть TF IDF будет большим у тех слов, которые редко встречаются, точнее которые\n",
        "часто встречаются внутри одного документа, но редко встречаются внутри других документов. А будет маленьким либо у слов, которые везде встречаются во всех документах, например, это\n",
        "стоп-слова там, союзы, предлоги, частицы, либо будет маленькое у тех слов, которые очень редко\n",
        "встречаются внутри одного документа."
      ],
      "metadata": {
        "id": "f_AhfrRoe-mh"
      }
    },
    {
      "cell_type": "markdown",
      "metadata": {
        "id": "8YSNwHr2SRMh"
      },
      "source": [
        "$TF-IDF$ — это статистическая мера, используемая для оценки\n",
        "\n",
        "важности слова в контексте документа. Вычисляется по формуле:\n",
        "\n",
        "$$TF-IDF(w, d, D) = TF(w, d) × IDF(w, D)$$\n",
        "\n",
        "$TF$ — частота слова, оценивает важность слова $w_i$ в пределах отдельного документа.\n",
        "\n",
        "$$TF(w, d) = \\frac{n_i}{\\sum_k n_k}$$\n",
        "\n",
        "$n_i$ — число вхождений слова $i$ в документ.\n",
        "\n",
        "$\\sum_k n_k$ — общее число слов в данном документе.\n",
        "\n",
        "$IDF$ — обратная частота документа. \n",
        "\n",
        "Учёт $IDF$ уменьшает вес широко употребляемых слов.\n",
        "$$IDF(w, D) = \\log \\frac{|D|}{|w_i \\subset d_i|}, \\text{где}$$\n",
        "\n",
        "$|D|$ — количество документов в корпусе.\n",
        "\n",
        "$|w_i \\subset d_i|$ — количество документов,\n",
        "\n",
        "в которых встречается слово $w_i$."
      ]
    },
    {
      "cell_type": "code",
      "metadata": {
        "id": "rteG9u1zjovT"
      },
      "source": [
        "from sklearn.feature_extraction.text import TfidfVectorizer"
      ],
      "execution_count": 31,
      "outputs": []
    },
    {
      "cell_type": "markdown",
      "source": [
        "Чтобы применить TF преобразования, импортируем класс\n",
        "TfidfVectorizer из библиотеки sklearn и создадим объект этого класса. И вот TfidfVectorizer\n",
        "имеет все те же самые методы, что и CountVectorizer, поэтому\n",
        "мы можем его передавать в уже написанную нами функцию Bag of Words, передадим в функцию\n",
        "Bag of Words TfidfVectorizer и так же посмотрим, что будет происходить."
      ],
      "metadata": {
        "id": "j69NQkWBgsom"
      }
    },
    {
      "cell_type": "code",
      "metadata": {
        "id": "FKZDpujwkIdK"
      },
      "source": [
        "vectorizer_tf_idf = TfidfVectorizer()"
      ],
      "execution_count": 32,
      "outputs": []
    },
    {
      "cell_type": "code",
      "metadata": {
        "id": "KlDqTbIFkSq2"
      },
      "source": [
        "X_train_tfidf, X_test_tfidf = bow(vectorizer_tf_idf, \n",
        "                                  newsgroups_train.data, \n",
        "                                  newsgroups_test.data)"
      ],
      "execution_count": 33,
      "outputs": []
    },
    {
      "cell_type": "markdown",
      "source": [
        "Сначала передадим данные, в которых не было предобработки, передадим данные,\n",
        "в которых была простая предобработка, то есть удаление лишних символов, приведение к\n",
        "нижнему регистру, удаление стоп-слов и применим к данным, в которых мы еще применяли\n",
        "стемминг. "
      ],
      "metadata": {
        "id": "zMrSkkBdhTCt"
      }
    },
    {
      "cell_type": "code",
      "metadata": {
        "id": "1JTYu0JEkqVi"
      },
      "source": [
        "X_train_tfidf_preprocess, X_test_tfidf_preprocess = bow(vectorizer_tf_idf,\n",
        "                                                        newsgroups_train.preprocess_data,\n",
        "                                                        newsgroups_test.preprocess_data)"
      ],
      "execution_count": 34,
      "outputs": []
    },
    {
      "cell_type": "code",
      "metadata": {
        "id": "0zmpdGT1lIWL"
      },
      "source": [
        "X_train_tfidf_stem, X_test_tfidf_stem = bow(vectorizer_tf_idf,\n",
        "                                            newsgroups_train.data_stemming,\n",
        "                                            newsgroups_test.data_stemming)"
      ],
      "execution_count": 35,
      "outputs": []
    },
    {
      "cell_type": "markdown",
      "source": [
        "Также иногда\n",
        "помимо учета каждого слова необходимо еще учитывать\n",
        "и n-граммы слов, так как иногда слова поодиночке не несут никакой информации о тексте."
      ],
      "metadata": {
        "id": "p31yANkziUQM"
      }
    },
    {
      "cell_type": "code",
      "metadata": {
        "id": "3u-SKgBXlbRq"
      },
      "source": [
        "vectorizer_ngram = TfidfVectorizer(ngram_range=(1,2))"
      ],
      "execution_count": 36,
      "outputs": []
    },
    {
      "cell_type": "markdown",
      "source": [
        "Попробуем учитывать n-граммы длины 2, то есть биграммы, помимо каждого слова по отдельности\n",
        "будем еще учитывать и биграммы. Также используем функцию Bag of force и передадим туда\n",
        "Vectoraizer, в котором мы использовали биграммы, и применим это все к данным, к которым был\n",
        "применён стемминг. Посмотрим, как изменяется размерность признакового пространства\n",
        "при использовании n-грамм. Видно, что размерность признакового пространства очень\n",
        "сильно возросла"
      ],
      "metadata": {
        "id": "V33B0hMPis08"
      }
    },
    {
      "cell_type": "code",
      "metadata": {
        "id": "eFKYG1uRmZgV"
      },
      "source": [
        "X_train_ngram_stem, X_test_ngram_stem = bow(vectorizer_ngram, \n",
        "                                            newsgroups_train.data_stemming,\n",
        "                                            newsgroups_test.data_stemming)"
      ],
      "execution_count": 37,
      "outputs": []
    },
    {
      "cell_type": "code",
      "metadata": {
        "id": "D4xEOvcanTgN",
        "outputId": "503ee3de-0aeb-4f56-db2a-e6160d2e14ba",
        "colab": {
          "base_uri": "https://localhost:8080/"
        }
      },
      "source": [
        "X_train_ngram_stem.shape"
      ],
      "execution_count": 40,
      "outputs": [
        {
          "output_type": "execute_result",
          "data": {
            "text/plain": [
              "(11314, 934463)"
            ]
          },
          "metadata": {},
          "execution_count": 40
        }
      ]
    },
    {
      "cell_type": "code",
      "metadata": {
        "id": "Vq4oBoQwnaU-",
        "outputId": "a603c094-6a49-4191-bd73-634ee4b538fe",
        "colab": {
          "base_uri": "https://localhost:8080/"
        }
      },
      "source": [
        "X_test_ngram_stem.shape"
      ],
      "execution_count": 41,
      "outputs": [
        {
          "output_type": "execute_result",
          "data": {
            "text/plain": [
              "(7532, 934463)"
            ]
          },
          "metadata": {},
          "execution_count": 41
        }
      ]
    },
    {
      "cell_type": "markdown",
      "metadata": {
        "id": "DdeFw_f58fw4"
      },
      "source": [
        "### 3. Выбор алгоритма машинного обучения для классификации."
      ]
    },
    {
      "cell_type": "code",
      "metadata": {
        "id": "GhRQvNYLndMl"
      },
      "source": [
        "from sklearn.metrics import accuracy_score\n",
        "import numpy as np"
      ],
      "execution_count": null,
      "outputs": []
    },
    {
      "cell_type": "code",
      "metadata": {
        "id": "47mZPCNrZzMk"
      },
      "source": [
        "from sklearn.linear_model import LogisticRegression\n",
        "clf = LogisticRegression()"
      ],
      "execution_count": null,
      "outputs": []
    },
    {
      "cell_type": "code",
      "metadata": {
        "id": "doizgpm8TJGl"
      },
      "source": [
        "from sklearn.svm import LinearSVC\n",
        "clf_svc = LinearSVC()"
      ],
      "execution_count": null,
      "outputs": []
    },
    {
      "cell_type": "code",
      "metadata": {
        "id": "BxB4gQxUZzG4",
        "outputId": "f9fd7d81-0c0d-4d34-a0ab-628947edd5d8",
        "colab": {
          "base_uri": "https://localhost:8080/",
          "height": 52
        }
      },
      "source": [
        "clf.fit(X_train_bow, newsgroups_train.target)\n",
        "print ('LogisticRegression: ',\n",
        "       accuracy_score(clf.predict(X_test_bow), newsgroups_test.target))\n",
        "\n",
        "clf_svc.fit(X_train_bow, newsgroups_train.target)\n",
        "print ('LinearSVC: ',\n",
        "       accuracy_score(clf_svc.predict(X_test_bow), newsgroups_test.target))"
      ],
      "execution_count": null,
      "outputs": [
        {
          "output_type": "stream",
          "text": [
            "LogisticRegression:  0.8069569835369091\n",
            "LinearSVC:  0.7858470525756771\n"
          ],
          "name": "stdout"
        }
      ]
    },
    {
      "cell_type": "code",
      "metadata": {
        "id": "9e9N2wHqZzAo",
        "outputId": "d9d4ea7f-b18a-44ae-a71e-c10c304c2275",
        "colab": {
          "base_uri": "https://localhost:8080/",
          "height": 52
        }
      },
      "source": [
        "clf.fit(X_train_bow_preprocess, newsgroups_train.target)\n",
        "print ('LogisticRegression: ',\n",
        "       accuracy_score(clf.predict(X_test_bow_preprocess),\n",
        "                      newsgroups_test.target))\n",
        "\n",
        "clf_svc.fit(X_train_bow_preprocess, newsgroups_train.target)\n",
        "print ('LinearSVC: ',\n",
        "       accuracy_score(clf_svc.predict(X_test_bow_preprocess),\n",
        "                      newsgroups_test.target))\n",
        "\n"
      ],
      "execution_count": null,
      "outputs": [
        {
          "output_type": "stream",
          "text": [
            "LogisticRegression:  0.811603823685608\n",
            "LinearSVC:  0.7928836962294211\n"
          ],
          "name": "stdout"
        }
      ]
    },
    {
      "cell_type": "code",
      "metadata": {
        "id": "gjNzmA3eZy7O",
        "outputId": "c23db17e-7500-4b57-dc57-c891c4edee69",
        "colab": {
          "base_uri": "https://localhost:8080/",
          "height": 52
        }
      },
      "source": [
        "clf.fit(X_train_bow_stem, newsgroups_train.target)\n",
        "print ('LogisticRegression: ',\n",
        "       accuracy_score(clf.predict(X_test_bow_stem),\n",
        "                      newsgroups_test.target))\n",
        "\n",
        "clf_svc.fit(X_train_bow_stem, newsgroups_train.target)\n",
        "print ('LinearSVC: ',\n",
        "       accuracy_score(clf_svc.predict(X_test_bow_stem),\n",
        "                      newsgroups_test.target))"
      ],
      "execution_count": null,
      "outputs": [
        {
          "output_type": "stream",
          "text": [
            "LogisticRegression:  0.8050982474774296\n",
            "LinearSVC:  0.7812002124269782\n"
          ],
          "name": "stdout"
        }
      ]
    },
    {
      "cell_type": "code",
      "metadata": {
        "id": "dz9GwO-NZyyg",
        "outputId": "e2aea1a5-a8ef-4fcf-9079-7571c8e8293e",
        "colab": {
          "base_uri": "https://localhost:8080/",
          "height": 52
        }
      },
      "source": [
        "clf.fit(X_train_tfidf, newsgroups_train.target)\n",
        "print ('LogisticRegression: ',\n",
        "       accuracy_score(clf.predict(X_test_tfidf), newsgroups_test.target))\n",
        "\n",
        "clf_svc.fit(X_train_tfidf, newsgroups_train.target)\n",
        "print ('LinearSVC: ',\n",
        "       accuracy_score(clf_svc.predict(X_test_tfidf), newsgroups_test.target))"
      ],
      "execution_count": null,
      "outputs": [
        {
          "output_type": "stream",
          "text": [
            "LogisticRegression:  0.8279341476367499\n",
            "LinearSVC:  0.8531598513011153\n"
          ],
          "name": "stdout"
        }
      ]
    },
    {
      "cell_type": "code",
      "metadata": {
        "id": "OTVeqc4GZyei",
        "outputId": "2fee7c8a-e925-4726-b82c-3a54b1847091",
        "colab": {
          "base_uri": "https://localhost:8080/",
          "height": 52
        }
      },
      "source": [
        "clf.fit(X_train_tfidf_preprocess, newsgroups_train.target)\n",
        "print ('LogisticRegression: ',\n",
        "        accuracy_score(clf.predict(X_test_tfidf_preprocess), \n",
        "                       newsgroups_test.target))\n",
        "\n",
        "clf_svc.fit(X_train_tfidf_preprocess, newsgroups_train.target)\n",
        "print ('LinearSVC: ',\n",
        "        accuracy_score(clf_svc.predict(X_test_tfidf_preprocess), \n",
        "                       newsgroups_test.target))"
      ],
      "execution_count": null,
      "outputs": [
        {
          "output_type": "stream",
          "text": [
            "LogisticRegression:  0.831651619755709\n",
            "LinearSVC:  0.8509028146574615\n"
          ],
          "name": "stdout"
        }
      ]
    },
    {
      "cell_type": "code",
      "metadata": {
        "id": "AsWsVay6Zyax",
        "outputId": "412684a2-16c2-482d-8c2f-f3d4263b3aab",
        "colab": {
          "base_uri": "https://localhost:8080/",
          "height": 52
        }
      },
      "source": [
        "clf.fit(X_train_tfidf_stem, newsgroups_train.target)\n",
        "print ('LogisticRegression: ',\n",
        "       accuracy_score(clf.predict(X_test_tfidf_stem), \n",
        "                      newsgroups_test.target))\n",
        "\n",
        "clf_svc.fit(X_train_tfidf_stem, newsgroups_train.target)\n",
        "print ('LinearSVC: ',\n",
        "       accuracy_score(clf_svc.predict(X_test_tfidf_stem),\n",
        "                      newsgroups_test.target))"
      ],
      "execution_count": null,
      "outputs": [
        {
          "output_type": "stream",
          "text": [
            "LogisticRegression:  0.8244822092405736\n",
            "LinearSVC:  0.8437334041423261\n"
          ],
          "name": "stdout"
        }
      ]
    },
    {
      "cell_type": "code",
      "metadata": {
        "id": "EpIlTWoYZyYU",
        "outputId": "609e1aa2-5671-46de-dd2d-bb01a68b0192",
        "colab": {
          "base_uri": "https://localhost:8080/",
          "height": 52
        }
      },
      "source": [
        "clf.fit(X_train_ngram_stem, newsgroups_train.target)\n",
        "print ('LogisticRegression: ',\n",
        "       accuracy_score(clf.predict(X_test_ngram_stem), \n",
        "                      newsgroups_test.target))\n",
        "\n",
        "clf_svc.fit(X_train_ngram_stem, newsgroups_train.target)\n",
        "print ('LinearSVC: ',\n",
        "       accuracy_score(clf_svc.predict(X_test_ngram_stem),\n",
        "                      newsgroups_test.target))"
      ],
      "execution_count": null,
      "outputs": [
        {
          "output_type": "stream",
          "text": [
            "LogisticRegression:  0.8275358470525757\n",
            "LinearSVC:  0.8555496548061604\n"
          ],
          "name": "stdout"
        }
      ]
    },
    {
      "cell_type": "code",
      "metadata": {
        "id": "JJHWFcawjVKd"
      },
      "source": [
        "import seaborn\n",
        "from sklearn.metrics import confusion_matrix"
      ],
      "execution_count": null,
      "outputs": []
    },
    {
      "cell_type": "code",
      "metadata": {
        "id": "WcuEWD2IjVII"
      },
      "source": [
        "predict_targets = clf_svc.predict(X_test_ngram_stem)"
      ],
      "execution_count": null,
      "outputs": []
    },
    {
      "cell_type": "code",
      "metadata": {
        "id": "GuCopDNujVDM",
        "outputId": "8e464db8-69a0-402e-e843-79b0752a8940",
        "colab": {
          "base_uri": "https://localhost:8080/",
          "height": 286
        }
      },
      "source": [
        "seaborn.heatmap(confusion_matrix(newsgroups_test.target, predict_targets))"
      ],
      "execution_count": null,
      "outputs": [
        {
          "output_type": "execute_result",
          "data": {
            "text/plain": [
              "<matplotlib.axes._subplots.AxesSubplot at 0x7f6a18e75c88>"
            ]
          },
          "metadata": {
            "tags": []
          },
          "execution_count": 102
        },
        {
          "output_type": "display_data",
          "data": {
            "image/png": "[encoded data removed]",
            "text/plain": [
              "<Figure size 432x288 with 2 Axes>"
            ]
          },
          "metadata": {
            "tags": []
          }
        }
      ]
    },
    {
      "cell_type": "code",
      "metadata": {
        "id": "2sSdHDPjjVAv",
        "outputId": "e51fa209-efff-40e3-8d5f-559c4c38035f",
        "colab": {
          "base_uri": "https://localhost:8080/",
          "height": 35
        }
      },
      "source": [
        "newsgroups_test.target_names[18]"
      ],
      "execution_count": null,
      "outputs": [
        {
          "output_type": "execute_result",
          "data": {
            "text/plain": [
              "'talk.politics.misc'"
            ]
          },
          "metadata": {
            "tags": []
          },
          "execution_count": 103
        }
      ]
    },
    {
      "cell_type": "code",
      "metadata": {
        "id": "hrluANXdjU9Q",
        "outputId": "86101033-4044-48ba-cbf8-048169a110e6",
        "colab": {
          "base_uri": "https://localhost:8080/",
          "height": 35
        }
      },
      "source": [
        "newsgroups_test.target_names[16]"
      ],
      "execution_count": null,
      "outputs": [
        {
          "output_type": "execute_result",
          "data": {
            "text/plain": [
              "'talk.politics.guns'"
            ]
          },
          "metadata": {
            "tags": []
          },
          "execution_count": 104
        }
      ]
    },
    {
      "cell_type": "code",
      "metadata": {
        "id": "npSRo-HajUye",
        "outputId": "ebe9f7fd-93a5-46a7-c075-e9a6c5b3f69b",
        "colab": {
          "base_uri": "https://localhost:8080/",
          "height": 1000
        }
      },
      "source": [
        "ind = np.where(newsgroups_test.target != predict_targets)\n",
        "ind = ind[0]\n",
        "random_ind = np.random.randint(0,ind.shape[0],(2))\n",
        "for i in random_ind:\n",
        "    img=newsgroups_test.data[ind[i]]\n",
        "    print ('Правильный класс: ', \n",
        "           newsgroups_test.target_names[newsgroups_test.target[ind[i]]])\n",
        "    print ('Предсказанный класс: ', \n",
        "           newsgroups_test.target_names[predict_targets[ind[i]]])\n",
        "    print(img)\n"
      ],
      "execution_count": null,
      "outputs": [
        {
          "output_type": "stream",
          "text": [
            "Правильный класс:  comp.windows.x\n",
            "Предсказанный класс:  comp.sys.mac.hardware\n",
            "From: dean@gene.med.umn.edu (Dean Flanders (IHG))\n",
            "Subject: Planet X\n",
            "Nntp-Posting-Host: gene.med.umn.edu\n",
            "Organization: University of Minnesota\n",
            "X-Newsreader: TIN [version 1.1 PL9]\n",
            "Lines: 28\n",
            "\n",
            "Does any one out there have experience with Planet X, I am\n",
            "considering buying it to use on a SPARCstation IPC, in this\n",
            "way I can run Mac programs from the SPARC.\n",
            "\n",
            "Would you recommend buying this piece of Software and what is\n",
            "the emulation on the SPARC like?  Does it give a window of a\n",
            "Mac or does it give a window of just the individual programs?\n",
            "\n",
            "Any information would be greatly appreciated.\n",
            "\n",
            "Thanks,\n",
            "\n",
            "Dean\n",
            "\n",
            "=========================================================================\n",
            "Institute of Human Genetics           I\n",
            "University of Minnesota               I\n",
            "Box 206 UMHC                          I    \"If all you have is a hammer,\n",
            "Harvard Street at East River Road     I     you tend to look at every\n",
            "Minneapolis, MN  55455                I     problem as a nail.\"\n",
            "                                      I\n",
            "Voice (612) 625-5128                  I                      -Maslow\n",
            "Fax (612) 626-7031                    I\n",
            "Email dean@lenti.med.umn.edu          I\n",
            "==========================================================================\n",
            "\n",
            "\n",
            "\n",
            "\n",
            "Правильный класс:  talk.politics.misc\n",
            "Предсказанный класс:  talk.politics.guns\n",
            "From: lazlo@carina.unm.edu (Lazlo Nibble)\n",
            "Subject: Re: WACO burning\n",
            "Organization: Vroom Socko International Fear Club\n",
            "Lines: 11\n",
            "Distribution: world\n",
            "NNTP-Posting-Host: carina.unm.edu\n",
            "\n",
            "russotto@eng.umd.edu (Matthew T. Russotto) writes:\n",
            "\n",
            "> The idea that kerosene lamps would be all over the place (with\n",
            "> electricity cut off) makes sense.  The idea that ramming tanks into the\n",
            "> building would spill them and cause a fire makes sense.\n",
            "\n",
            "As does the idea that a CS gas canister can get hot enough to ignite dry\n",
            "baled hay.\n",
            "\n",
            "--\n",
            "Lazlo (lazlo@triton.unm.edu)\n",
            "\n"
          ],
          "name": "stdout"
        }
      ]
    },
    {
      "cell_type": "code",
      "metadata": {
        "id": "buFTE7SdjUs3"
      },
      "source": [
        ""
      ],
      "execution_count": null,
      "outputs": []
    },
    {
      "cell_type": "code",
      "metadata": {
        "id": "DQ_DUOFsZyUu"
      },
      "source": [
        ""
      ],
      "execution_count": null,
      "outputs": []
    }
  ]
}