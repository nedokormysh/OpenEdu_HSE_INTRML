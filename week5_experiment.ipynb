{
  "nbformat": 4,
  "nbformat_minor": 0,
  "metadata": {
    "colab": {
      "name": "week5_experiment.ipynb",
      "provenance": [],
      "authorship_tag": "ABX9TyOqxT2oL31+icrwK8L0eodW",
      "include_colab_link": true
    },
    "kernelspec": {
      "name": "python3",
      "display_name": "Python 3"
    },
    "language_info": {
      "name": "python"
    }
  },
  "cells": [
    {
      "cell_type": "markdown",
      "metadata": {
        "id": "view-in-github",
        "colab_type": "text"
      },
      "source": [
        "<a href=\"https://colab.research.google.com/github/nedokormysh/OpenEdu_HSE_INTRML/blob/week5/week5_experiment.ipynb\" target=\"_parent\"><img src=\"https://colab.research.google.com/assets/colab-badge.svg\" alt=\"Open In Colab\"/></a>"
      ]
    },
    {
      "cell_type": "code",
      "execution_count": null,
      "metadata": {
        "id": "FgTYtvJUbpVA"
      },
      "outputs": [],
      "source": [
        "from sklearn.metrics import auc, roc_auc_score\n",
        "\n",
        "# [0, 1, 1]\n",
        "# [0.2, 0.4, 0.9]\n",
        "\n",
        "# print(auc(recall_array, precision_array))"
      ]
    },
    {
      "cell_type": "code",
      "source": [
        "import numpy as np\n",
        "from sklearn.metrics import precision_recall_curve\n",
        "from sklearn import metrics\n",
        "y_true = np.array([0, 1, 1])\n",
        "y_scores = np.array([0.2, 0.4, 0.9])\n",
        "precision, recall, thresholds = precision_recall_curve(y_true, y_scores, pos_label=1)\n",
        "# precision, recall, thresholds = precision_recall_curve(y_scores, y_true)\n",
        "print(precision)\n",
        "# array([0.5       , 0.66666667, 0.5       , 1.        , 1.        ])\n",
        "print(recall)\n",
        "# array([1. , 1. , 0.5, 0.5, 0. ])\n",
        "print(thresholds)\n",
        "# array([0.1 , 0.35, 0.4 , 0.8 ])\n",
        "metrics.auc(recall, precision)"
      ],
      "metadata": {
        "colab": {
          "base_uri": "https://localhost:8080/"
        },
        "id": "GLUezJV5eD24",
        "outputId": "1fbf3d9c-8ba5-48f7-b436-8fcf2db21fa3"
      },
      "execution_count": 2,
      "outputs": [
        {
          "output_type": "stream",
          "name": "stdout",
          "text": [
            "[1. 1. 1.]\n",
            "[1.  0.5 0. ]\n",
            "[0.4 0.9]\n"
          ]
        },
        {
          "output_type": "execute_result",
          "data": {
            "text/plain": [
              "1.0"
            ]
          },
          "metadata": {},
          "execution_count": 2
        }
      ]
    },
    {
      "cell_type": "code",
      "source": [
        "import matplotlib.pyplot as plt\n",
        "plt.plot(recall, precision)\n",
        "plt.show()"
      ],
      "metadata": {
        "colab": {
          "base_uri": "https://localhost:8080/",
          "height": 265
        },
        "id": "a04VvyAIgWtK",
        "outputId": "3f0e951b-635a-45db-d5e5-d506c8545d38"
      },
      "execution_count": null,
      "outputs": [
        {
          "output_type": "display_data",
          "data": {
            "text/plain": [
              "<Figure size 432x288 with 1 Axes>"
            ],
            "image/png": "[encoded data removed]"
          },
          "metadata": {
            "needs_background": "light"
          }
        }
      ]
    },
    {
      "cell_type": "code",
      "source": [
        "# metrics.roc_auc_score(y_true, y_scores, average=None)\n",
        "metrics.roc_auc_score(y_true, y_scores, average=None)"
      ],
      "metadata": {
        "colab": {
          "base_uri": "https://localhost:8080/"
        },
        "id": "_xz63jcocXov",
        "outputId": "c948f3e3-70d6-4642-9b1b-34b015ab72e9"
      },
      "execution_count": null,
      "outputs": [
        {
          "output_type": "execute_result",
          "data": {
            "text/plain": [
              "1.0"
            ]
          },
          "metadata": {},
          "execution_count": 27
        }
      ]
    },
    {
      "cell_type": "code",
      "source": [
        "import numpy as np\n",
        "from sklearn import metrics\n",
        "y_true = np.array([0, 1, 1])\n",
        "y_scores = np.array([0.2, 0.4, 0.9])\n",
        "fpr, tpr, thresholds = metrics.roc_curve(y_true, y_scores, pos_label=1)\n",
        "print(fpr)\n",
        "print(tpr)\n",
        "print(thresholds)\n",
        "metrics.auc(fpr, tpr)"
      ],
      "metadata": {
        "colab": {
          "base_uri": "https://localhost:8080/"
        },
        "id": "3yu7kC6ckRih",
        "outputId": "cc34091a-3ee2-422b-df2a-2aef071a098d"
      },
      "execution_count": null,
      "outputs": [
        {
          "output_type": "stream",
          "name": "stdout",
          "text": [
            "[0. 0. 0. 1.]\n",
            "[0.  0.5 1.  1. ]\n",
            "[1.9 0.9 0.4 0.2]\n"
          ]
        },
        {
          "output_type": "execute_result",
          "data": {
            "text/plain": [
              "1.0"
            ]
          },
          "metadata": {},
          "execution_count": 29
        }
      ]
    },
    {
      "cell_type": "code",
      "source": [
        "np.random.seed(13)\n",
        "\n",
        "n = 10\n",
        "X = np.random.normal(size=(n, 2))"
      ],
      "metadata": {
        "id": "c44k9yqBj0_S"
      },
      "execution_count": 3,
      "outputs": []
    },
    {
      "cell_type": "code",
      "source": [
        "X"
      ],
      "metadata": {
        "colab": {
          "base_uri": "https://localhost:8080/"
        },
        "id": "y8Ec9bJ-j2uv",
        "outputId": "7e2a6928-db75-45d8-be1a-ecf83e3b0a1b"
      },
      "execution_count": 4,
      "outputs": [
        {
          "output_type": "execute_result",
          "data": {
            "text/plain": [
              "array([[-0.71239066,  0.75376638],\n",
              "       [-0.04450308,  0.45181234],\n",
              "       [ 1.34510171,  0.53233789],\n",
              "       [ 1.3501879 ,  0.86121137],\n",
              "       [ 1.47868574, -1.04537713],\n",
              "       [-0.78898902, -1.26160595],\n",
              "       [ 0.56284679, -0.24332625],\n",
              "       [ 0.9137407 ,  0.31735092],\n",
              "       [ 0.12730328,  2.15038297],\n",
              "       [ 0.60628866, -0.02677165]])"
            ]
          },
          "metadata": {},
          "execution_count": 4
        }
      ]
    },
    {
      "cell_type": "code",
      "source": [
        "X[:5, :] += 0.75\n",
        "X[5:, :] -= 1\n",
        "X\n",
        "# y = np.array([1] * 5 + [-1] * 5)"
      ],
      "metadata": {
        "colab": {
          "base_uri": "https://localhost:8080/"
        },
        "id": "8ng0GO9IkB44",
        "outputId": "dd930f7e-47bb-4ba2-eb88-0b47a58cf6ef"
      },
      "execution_count": 5,
      "outputs": [
        {
          "output_type": "execute_result",
          "data": {
            "text/plain": [
              "array([[ 0.03760934,  1.50376638],\n",
              "       [ 0.70549692,  1.20181234],\n",
              "       [ 2.09510171,  1.28233789],\n",
              "       [ 2.1001879 ,  1.61121137],\n",
              "       [ 2.22868574, -0.29537713],\n",
              "       [-1.78898902, -2.26160595],\n",
              "       [-0.43715321, -1.24332625],\n",
              "       [-0.0862593 , -0.68264908],\n",
              "       [-0.87269672,  1.15038297],\n",
              "       [-0.39371134, -1.02677165]])"
            ]
          },
          "metadata": {},
          "execution_count": 5
        }
      ]
    },
    {
      "cell_type": "code",
      "source": [
        "y = np.array([1] * 5 + [-1] * 5)\n",
        "y"
      ],
      "metadata": {
        "colab": {
          "base_uri": "https://localhost:8080/"
        },
        "id": "gtL67N1IkKAy",
        "outputId": "36f5b692-948d-4ef0-dd9f-4dd744f368e4"
      },
      "execution_count": 7,
      "outputs": [
        {
          "output_type": "execute_result",
          "data": {
            "text/plain": [
              "array([ 1,  1,  1,  1,  1, -1, -1, -1, -1, -1])"
            ]
          },
          "metadata": {},
          "execution_count": 7
        }
      ]
    },
    {
      "cell_type": "code",
      "source": [
        "X[y == 1, 0]"
      ],
      "metadata": {
        "colab": {
          "base_uri": "https://localhost:8080/"
        },
        "id": "nQPvfL8HkTfB",
        "outputId": "8dd70806-4a12-48d2-b2a9-ae6a308064da"
      },
      "execution_count": 8,
      "outputs": [
        {
          "output_type": "execute_result",
          "data": {
            "text/plain": [
              "array([0.03760934, 0.70549692, 2.09510171, 2.1001879 , 2.22868574])"
            ]
          },
          "metadata": {},
          "execution_count": 8
        }
      ]
    }
  ]
}