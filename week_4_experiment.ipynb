{
  "nbformat": 4,
  "nbformat_minor": 0,
  "metadata": {
    "colab": {
      "name": "week_4_experiment.ipynb",
      "provenance": [],
      "authorship_tag": "ABX9TyP+WGj+Xm7jNugU60VMOvHo",
      "include_colab_link": true
    },
    "kernelspec": {
      "name": "python3",
      "display_name": "Python 3"
    },
    "language_info": {
      "name": "python"
    }
  },
  "cells": [
    {
      "cell_type": "markdown",
      "metadata": {
        "id": "view-in-github",
        "colab_type": "text"
      },
      "source": [
        "<a href=\"https://colab.research.google.com/github/nedokormysh/OpenEdu_HSE_INTRML/blob/week4/week_4_experiment.ipynb\" target=\"_parent\"><img src=\"https://colab.research.google.com/assets/colab-badge.svg\" alt=\"Open In Colab\"/></a>"
      ]
    },
    {
      "cell_type": "code",
      "execution_count": null,
      "metadata": {
        "id": "a9hc9sHjTnd8"
      },
      "outputs": [],
      "source": [
        "import matplotlib.pyplot as plt\n",
        "import numpy as np\n",
        "import pandas as pd\n",
        "import warnings\n",
        "from sklearn.metrics import mean_absolute_percentage_error\n",
        "from sklearn.base import BaseEstimator\n",
        "\n",
        "\n",
        "np.random.seed(0)\n",
        "\n",
        "warnings.filterwarnings('ignore')\n",
        "%matplotlib inline"
      ]
    },
    {
      "cell_type": "code",
      "source": [
        "class LinearRegressionVectorized(BaseEstimator):\n",
        "    def __init__(self, epsilon=1e-4, max_steps=1000, w0=None, alpha=1e-2):\n",
        "        \"\"\"\n",
        "        epsilon: разница для нормы изменения весов \n",
        "        max_steps: максимальное количество шагов в градиентном спуске\n",
        "        w0: np.array (d,) - начальные веса\n",
        "        alpha: шаг обучения\n",
        "        \"\"\"\n",
        "        self.epsilon = epsilon\n",
        "        self.max_steps = max_steps\n",
        "        self.w0 = w0\n",
        "        self.alpha = alpha\n",
        "        self.w = None\n",
        "        self.w_history = []\n",
        "    \n",
        "    def fit(self, X, y):\n",
        "        \"\"\"\n",
        "        X: np.array (l, d)\n",
        "        y: np.array (l)\n",
        "        ---\n",
        "        output: self\n",
        "        \"\"\"\n",
        "        l, d = X.shape\n",
        "\n",
        "        if self.w0 is None:\n",
        "          self.w0 = np.zeros(d)\n",
        "\n",
        "        self.w = self.w0\n",
        "\n",
        "        for step in range(self.max_steps):\n",
        "          self.w_history.append(self.w)\n",
        "\n",
        "          w_new = self.w - self.alpha * self.calc_gradient(X, y)\n",
        "\n",
        "          if (np.linalg.norm(w_new - self.w) < self.epsilon):\n",
        "            break\n",
        "          \n",
        "          self.w = w_new\n",
        "        \n",
        "        return self\n",
        "    '''\n",
        "    У нас будет новый класс линейной регрессии, функцию fit, которая обучает, мы оставляем без изменений, нам нужно изменить\n",
        "    только подсчет градиентов и функцию, которая дает нам предсказание. \n",
        "    '''\n",
        "\n",
        "    def predict(self, X):\n",
        "        \"\"\"\n",
        "        X: np.array (l, d)\n",
        "        ---\n",
        "        output: np.array (l)\n",
        "        \"\"\"\n",
        "        \n",
        "        if self.w is None:\n",
        "            raise Exception('Not trained yet')\n",
        "        # нам нужно матричный умножить x - матрицу объектов-признаков - на наш вектор весов w.\n",
        "        return np.dot(X, self.w)\n",
        "\n",
        "    \n",
        "    def calc_gradient(self, X, y):\n",
        "        \"\"\"\n",
        "        X: np.array (l, d)\n",
        "        y: np.array (l)\n",
        "        ---\n",
        "        output: np.array (d)\n",
        "        \"\"\"\n",
        "        l, d = X.shape\n",
        "\n",
        "        return (2/l) * np.dot(X.T,(np.dot(X, self.w) - y))\n",
        "        # return np.dot(X, self.w) "
      ],
      "metadata": {
        "id": "GtFqg2zPUq4x"
      },
      "execution_count": null,
      "outputs": []
    },
    {
      "cell_type": "code",
      "source": [
        "n_features = 100\n",
        "n_objects = 10000\n",
        "num_steps = 2\n",
        "'''\n",
        "У нас для того, чтобы сравнение было более показательным, будет\n",
        "100 признаков и 10 тысяч объектов, и для того,\n",
        "чтобы наш пример отработал быстро, поставим количество шагов равным двум.\n",
        "'''\n",
        "\n",
        "\n",
        "np.random.seed(1)\n",
        "w_true = np.random.normal(0, 0.1, size=(n_features, ))\n",
        "w_0 = np.random.uniform(-2, 2, (n_features))\n",
        "\n",
        "X = np.random.uniform(-5, 5, (n_objects, n_features))\n",
        "y = np.dot(X, w_true) + np.random.normal(0, 1, (n_objects))"
      ],
      "metadata": {
        "id": "cw9JzBsSUxjF"
      },
      "execution_count": null,
      "outputs": []
    },
    {
      "cell_type": "code",
      "source": [
        "X.shape"
      ],
      "metadata": {
        "colab": {
          "base_uri": "https://localhost:8080/"
        },
        "id": "vnyKmbbTXmWI",
        "outputId": "8c9a3832-c411-4117-83af-211669823b83"
      },
      "execution_count": null,
      "outputs": [
        {
          "output_type": "execute_result",
          "data": {
            "text/plain": [
              "(10000, 100)"
            ]
          },
          "metadata": {},
          "execution_count": 39
        }
      ]
    },
    {
      "cell_type": "code",
      "source": [
        "w_0.shape"
      ],
      "metadata": {
        "colab": {
          "base_uri": "https://localhost:8080/"
        },
        "id": "yiInbADZzAVz",
        "outputId": "7065b291-c344-46e5-f128-2bcef3fb7c86"
      },
      "execution_count": null,
      "outputs": [
        {
          "output_type": "execute_result",
          "data": {
            "text/plain": [
              "(100,)"
            ]
          },
          "metadata": {},
          "execution_count": 47
        }
      ]
    },
    {
      "cell_type": "code",
      "source": [
        "y.shape"
      ],
      "metadata": {
        "colab": {
          "base_uri": "https://localhost:8080/"
        },
        "id": "Pi1aVyPSzMt4",
        "outputId": "4f4fb218-dff2-4882-d7a2-510ae7b229c9"
      },
      "execution_count": null,
      "outputs": [
        {
          "output_type": "execute_result",
          "data": {
            "text/plain": [
              "(10000,)"
            ]
          },
          "metadata": {},
          "execution_count": 50
        }
      ]
    },
    {
      "cell_type": "code",
      "source": [
        "np.dot(X, w_0)-y"
      ],
      "metadata": {
        "colab": {
          "base_uri": "https://localhost:8080/"
        },
        "id": "3cMenEPHzJCH",
        "outputId": "4e4da08f-6d2c-414b-cb97-362030e37b03"
      },
      "execution_count": null,
      "outputs": [
        {
          "output_type": "execute_result",
          "data": {
            "text/plain": [
              "array([  3.52952381, -29.87227682, -88.91821667, ..., -38.84485533,\n",
              "        -1.83118518,   1.60728795])"
            ]
          },
          "metadata": {},
          "execution_count": 52
        }
      ]
    },
    {
      "cell_type": "code",
      "source": [
        "def prep(X, y):\n",
        "  n_features = X.shape[1]\n",
        "  print(n_features)\n",
        "  n_objects = X.shape[0]\n",
        "  print(n_objects)\n",
        "  num_steps = 2\n",
        "\n",
        "  np.random.seed(1)\n",
        "  w_0 = np.random.uniform(-2, 2, (n_features))\n",
        "\n",
        "  return w_0"
      ],
      "metadata": {
        "id": "7vNhOhqqV4VD"
      },
      "execution_count": null,
      "outputs": []
    },
    {
      "cell_type": "code",
      "source": [
        "lr_vectorized = LinearRegressionVectorized(w0=w_0, alpha=0.01)\n",
        "lr_vectorized.fit(X, y)"
      ],
      "metadata": {
        "colab": {
          "base_uri": "https://localhost:8080/"
        },
        "id": "e1Oct3n0U-OJ",
        "outputId": "f7587fbb-4afb-4139-c54d-29f93e316ef4"
      },
      "execution_count": null,
      "outputs": [
        {
          "output_type": "execute_result",
          "data": {
            "text/plain": [
              "LinearRegressionVectorized(w0=array([ 1.22842078, -0.44855742,  1.45416742,  0.98848657,  0.22496094,\n",
              "       -1.4541791 , -1.76032924, -1.51462618, -1.82179249, -1.57002348,\n",
              "       -1.09716265,  0.85195592,  0.23886793, -1.94977608, -1.71210288,\n",
              "        1.86910532,  0.27240185, -1.18682706, -0.99069702,  0.97530342,\n",
              "       -1.21828208,  0.32543571,  1.88007996,  1.38731521, -1.04060896,\n",
              "       -0.02492114,  0.47982287,  1.3...\n",
              "        0.22661275,  1.6624254 ,  0.56626484, -0.43996914, -0.05603733,\n",
              "        0.41724193,  0.19819169,  1.70472571,  1.67493374, -0.42049755,\n",
              "        1.85305011, -1.30417733, -1.49468192, -1.45968337,  0.02264866,\n",
              "       -1.91390078,  1.79188084,  1.30846188, -1.93992408, -1.29521498,\n",
              "       -0.6717457 , -1.47601262,  1.23796277, -0.62105339,  1.76042993,\n",
              "        0.32805672,  1.51532794,  1.37893778,  1.62156927, -0.16047894,\n",
              "        0.18538726,  1.19441436, -0.85712459, -0.03898591,  0.39644123]))"
            ]
          },
          "metadata": {},
          "execution_count": 43
        }
      ]
    },
    {
      "cell_type": "code",
      "source": [
        "from sklearn.datasets import load_boston\n",
        "from sklearn.model_selection import train_test_split\n",
        "\n",
        "data = load_boston()\n",
        "X_boston = pd.DataFrame(data.data, columns=data.feature_names)\n",
        "y_boston = data.target\n",
        "\n",
        "X_train, X_test, y_train, y_test = train_test_split(np.array(X_boston), y_boston, test_size=0.3, random_state=10)"
      ],
      "metadata": {
        "id": "0LHD8Pp_VdWH"
      },
      "execution_count": null,
      "outputs": []
    },
    {
      "cell_type": "code",
      "source": [
        "w_prep = prep(X_train, y_train)"
      ],
      "metadata": {
        "colab": {
          "base_uri": "https://localhost:8080/"
        },
        "id": "Q9AHlRUcW6dV",
        "outputId": "73ae2863-bfc8-4524-ef09-6b092b1b7450"
      },
      "execution_count": null,
      "outputs": [
        {
          "output_type": "stream",
          "name": "stdout",
          "text": [
            "13\n",
            "354\n"
          ]
        }
      ]
    },
    {
      "cell_type": "code",
      "source": [
        "X_train.shape"
      ],
      "metadata": {
        "colab": {
          "base_uri": "https://localhost:8080/"
        },
        "id": "vA1O6SvuzVJl",
        "outputId": "1da4cb5a-7d8b-47f1-8e60-1605837d0c50"
      },
      "execution_count": null,
      "outputs": [
        {
          "output_type": "execute_result",
          "data": {
            "text/plain": [
              "(354, 13)"
            ]
          },
          "metadata": {},
          "execution_count": 70
        }
      ]
    },
    {
      "cell_type": "code",
      "source": [
        "w_prep.shape"
      ],
      "metadata": {
        "colab": {
          "base_uri": "https://localhost:8080/"
        },
        "id": "kwFXDPM9zaID",
        "outputId": "07ca2029-f8eb-412d-8c51-34fce3f79bd0"
      },
      "execution_count": null,
      "outputs": [
        {
          "output_type": "execute_result",
          "data": {
            "text/plain": [
              "(13,)"
            ]
          },
          "metadata": {},
          "execution_count": 71
        }
      ]
    },
    {
      "cell_type": "code",
      "source": [
        "# np.dot(X_train, w_prep)-y_train"
      ],
      "metadata": {
        "id": "3doSga6-zaGK"
      },
      "execution_count": null,
      "outputs": []
    },
    {
      "cell_type": "code",
      "source": [
        "lr_vectorized = LinearRegressionVectorized(w0=w_prep, alpha=0.01)\n",
        "lr_vectorized.fit(X_train, y_train)"
      ],
      "metadata": {
        "colab": {
          "base_uri": "https://localhost:8080/"
        },
        "id": "1rQ-6JjjVpZ0",
        "outputId": "98c86eeb-629f-4811-9c7f-fd702eb91858"
      },
      "execution_count": null,
      "outputs": [
        {
          "output_type": "execute_result",
          "data": {
            "text/plain": [
              "LinearRegressionVectorized(w0=array([-0.33191198,  0.88129797, -1.9995425 , -0.79066971, -1.41297644,\n",
              "       -1.63064562, -1.25495915, -0.61775709, -0.4129301 ,  0.15526694,\n",
              "       -0.32322194,  0.740878  , -1.182191  ]))"
            ]
          },
          "metadata": {},
          "execution_count": 75
        }
      ]
    },
    {
      "cell_type": "code",
      "source": [
        ""
      ],
      "metadata": {
        "id": "3f3YE6C-VpYM"
      },
      "execution_count": null,
      "outputs": []
    }
  ]
}